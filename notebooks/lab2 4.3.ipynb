{
 "cells": [
  {
   "cell_type": "code",
   "execution_count": 1,
   "metadata": {
    "collapsed": true
   },
   "outputs": [],
   "source": [
    "import numpy as np\n",
    "import matplotlib.pyplot as plt\n",
    "import matplotlib.cm as cm\n",
    "from math import ceil, floor\n",
    "from scipy.spatial.distance import cityblock\n",
    "from matplotlib.path import Path\n",
    "import matplotlib.patches as patches\n",
    "import pandas as pd"
   ]
  },
  {
   "cell_type": "code",
   "execution_count": 2,
   "metadata": {
    "collapsed": true
   },
   "outputs": [],
   "source": [
    "class SOM():\n",
    "    def __init__(self, data, weightdim):\n",
    "        self.weights = np.random.rand(weightdim[0],weightdim[1])\n",
    "        self.data = data\n",
    "\n",
    "    def train(self, eta, iterations, data = None, starting_fraction = None, func = None):\n",
    "        if data == None:\n",
    "            data = self.data\n",
    "        if starting_fraction == None:\n",
    "            starting_fraction = 4\n",
    "        \n",
    "        area_size = ceil(self.weights.shape[0]/starting_fraction)\n",
    "        size_step = area_size/iterations\n",
    "        for epoch in range(iterations):\n",
    "            self.iterate(data, area_size, eta, func)\n",
    "            area_size = self.update_size(area_size, size_step)\n",
    "            if epoch%10==0:\n",
    "                print(\"Completed epoch {}\".format(epoch))\n",
    "    \n",
    "    def update_size(self, area_size, size_step):\n",
    "        area_size = max(ceil(area_size - size_step), 1)\n",
    "        return area_size\n",
    "\n",
    "    \n",
    "    def iterate(self, data, area_size, eta, func):\n",
    "        if func == None:\n",
    "            func = self.find_neighbourhood\n",
    "        elif func == 'circular':\n",
    "            func = self.find_circular_neighbourhood\n",
    "        elif func == 'manhattan':\n",
    "            func = self.find_manhattan_neighbourhood\n",
    "        \n",
    "        for dataindex in range(data.shape[0]):\n",
    "            datapoint = data[dataindex,:].copy()\n",
    "            winner = self.find_winner(datapoint)\n",
    "            neighbourhood = func(winner, area_size)\n",
    "            self.update_weights(neighbourhood, eta, datapoint)\n",
    "            \n",
    "    def update_weights(self, neighbourhood, eta, datapoint):\n",
    "        for weight_index in neighbourhood:\n",
    "            weight = self.weights[weight_index,:].copy()\n",
    "            new_weight = np.add(weight, eta*(np.subtract(datapoint,weight)))\n",
    "            self.weights[weight_index,:] = new_weight\n",
    "            \n",
    "    def distance(self, x, y):\n",
    "        sub_vec = np.subtract(x, y)\n",
    "        dist = np.dot(sub_vec.T, sub_vec)\n",
    "        return dist\n",
    "            \n",
    "    def find_winner(self, datapoint):\n",
    "        min_dist = self.distance(self.weights[0,:], datapoint)\n",
    "        min_index = 0\n",
    "        for weightindex in range(self.weights.shape[0]):\n",
    "            dist = self.distance(self.weights[weightindex,:], datapoint)\n",
    "            if dist < min_dist:\n",
    "                min_dist = dist\n",
    "                min_index = weightindex\n",
    "        return min_index\n",
    "    \n",
    "    def find_circular_neighbourhood(self, winner, area_size):\n",
    "        diff = int(area_size/2)\n",
    "        weight_length = self.weights.shape[0]\n",
    "        lower = (winner - diff) % weight_length\n",
    "        upper = (winner + diff) % weight_length\n",
    "        if lower > upper:\n",
    "            lower_range = list(range(lower,weight_length))\n",
    "            upper_range = list(range(0,upper))\n",
    "            neighbourhood = lower_range.append(upper_range)\n",
    "        else:\n",
    "            neighbourhood = range(lower,upper)\n",
    "\n",
    "        return range(lower, upper)\n",
    "    \n",
    "    def find_manhattan_neighbourhood(self, winner, area_size):\n",
    "        grid_winner = np.array([floor(winner/10), winner % 10])\n",
    "        neighbourhood = []\n",
    "\n",
    "        for i in range(100):\n",
    "            i_grid = np.array([floor(i/10), i % 10])\n",
    "            if cityblock(grid_winner, i_grid) <= area_size:\n",
    "                neighbourhood.append(i)\n",
    "        return neighbourhood\n",
    "    \n",
    "    def find_neighbourhood(self, winner, area_size):\n",
    "        diff = int(area_size/2)\n",
    "        max_ind = self.weights.shape[0]\n",
    "        if area_size == 1:\n",
    "            if winner == max_ind:\n",
    "                lower = winner -1\n",
    "                upper = winner\n",
    "            else:\n",
    "                lower = winner\n",
    "                upper = min(winner+1, max_ind)\n",
    "        elif area_size == 2:\n",
    "            if np.random.rand() > 1:\n",
    "                lower = winner\n",
    "                upper = min(winner + 2, max_ind)\n",
    "            else:\n",
    "                lower = max(winner-2, 0)\n",
    "                upper = winner\n",
    "        else:\n",
    "            lower = max(winner - diff, 0)\n",
    "            upper = min(winner + diff, max_ind)\n",
    "        \n",
    "        neighbourhood = range(lower,upper)\n",
    "        return neighbourhood\n",
    "    \n",
    "    def predict(self, data, labels):\n",
    "        predictions = []\n",
    "        for dataindex in range(data.shape[0]):\n",
    "            datapoint = data[dataindex,:].copy()\n",
    "            winner = self.find_winner(datapoint)\n",
    "            predictions.append([winner, labels[dataindex]])\n",
    "        predictions = np.array(predictions,dtype=object)\n",
    "        predictions = predictions[predictions[:,0].argsort()]\n",
    "  \n",
    "        return predictions"
   ]
  },
  {
   "cell_type": "code",
   "execution_count": 3,
   "metadata": {
    "collapsed": true
   },
   "outputs": [],
   "source": [
    "for index in range(8,4):\n",
    "    print(index)"
   ]
  },
  {
   "cell_type": "code",
   "execution_count": 5,
   "metadata": {
    "collapsed": true
   },
   "outputs": [],
   "source": [
    "#animals\n",
    "\n",
    "\n",
    "animal_data = np.loadtxt('animals.dat', delimiter = ',', dtype = int)\n",
    "animalNames = np.loadtxt('animalnames.txt', dtype = str)"
   ]
  },
  {
   "cell_type": "code",
   "execution_count": 6,
   "metadata": {
    "collapsed": true
   },
   "outputs": [],
   "source": [
    "animal_data = np.reshape(animal_data, (32,84))"
   ]
  },
  {
   "cell_type": "code",
   "execution_count": 7,
   "metadata": {},
   "outputs": [
    {
     "name": "stdout",
     "output_type": "stream",
     "text": [
      "Completed epoch 0\n",
      "Completed epoch 10\n",
      "Completed epoch 20\n",
      "Completed epoch 30\n",
      "Completed epoch 40\n",
      "Completed epoch 50\n",
      "Completed epoch 60\n",
      "Completed epoch 70\n",
      "Completed epoch 80\n",
      "Completed epoch 90\n"
     ]
    }
   ],
   "source": [
    "som = SOM(animal_data, (100, 84))\n",
    "som.train(0.1, 100)\n",
    "pred = som.predict(animal_data, animalNames)"
   ]
  },
  {
   "cell_type": "code",
   "execution_count": 8,
   "metadata": {},
   "outputs": [
    {
     "name": "stdout",
     "output_type": "stream",
     "text": [
      "[[0 \"'antelop'\"]\n",
      " [0 \"'giraffe'\"]\n",
      " [0 \"'elephant'\"]\n",
      " [0 \"'pig'\"]\n",
      " [0 \"'camel'\"]\n",
      " [0 \"'rabbit'\"]\n",
      " [0 \"'horse'\"]\n",
      " [1 \"'bat'\"]\n",
      " [1 \"'kangaroo'\"]\n",
      " [12 \"'skunk'\"]\n",
      " [12 \"'rat'\"]\n",
      " [13 \"'hyena'\"]\n",
      " [14 \"'cat'\"]\n",
      " [14 \"'dog'\"]\n",
      " [14 \"'bear'\"]\n",
      " [14 \"'lion'\"]\n",
      " [14 \"'ape'\"]\n",
      " [24 \"'walrus'\"]\n",
      " [27 \"'frog'\"]\n",
      " [27 \"'crocodile'\"]\n",
      " [27 \"'seaturtle'\"]\n",
      " [40 \"'ostrich'\"]\n",
      " [42 \"'duck'\"]\n",
      " [42 \"'pelican'\"]\n",
      " [42 \"'penguin'\"]\n",
      " [55 \"'dragonfly'\"]\n",
      " [55 \"'beetle'\"]\n",
      " [68 \"'grasshopper'\"]\n",
      " [70 \"'butterfly'\"]\n",
      " [82 \"'housefly'\"]\n",
      " [83 \"'moskito'\"]\n",
      " [96 \"'spider'\"]]\n"
     ]
    }
   ],
   "source": [
    "print(pred)"
   ]
  },
  {
   "cell_type": "code",
   "execution_count": null,
   "metadata": {
    "collapsed": true
   },
   "outputs": [],
   "source": []
  },
  {
   "cell_type": "code",
   "execution_count": 5,
   "metadata": {
    "collapsed": true
   },
   "outputs": [],
   "source": [
    "votes = np.loadtxt('votes.dat', delimiter = ',', dtype = float)\n",
    "mpnames = np.genfromtxt('mpnames.txt', delimiter ='\\n', dtype = str)\n",
    "mpsex  = np.genfromtxt('mpsex.dat', delimiter ='\\n', dtype = float)\n",
    "mpdistrict  = np.genfromtxt('mpdistrict.dat', delimiter =',', dtype = float)\n",
    "mpparty = np.genfromtxt('mpparty.dat', delimiter ='\\n', dtype = float)\n",
    "votes = np.reshape(votes,(349,31))\n",
    "votes_labels = list(range(len(votes)))"
   ]
  },
  {
   "cell_type": "code",
   "execution_count": 6,
   "metadata": {},
   "outputs": [
    {
     "data": {
      "text/plain": [
       "350"
      ]
     },
     "execution_count": 6,
     "metadata": {},
     "output_type": "execute_result"
    }
   ],
   "source": [
    "len(mpsex)"
   ]
  },
  {
   "cell_type": "code",
   "execution_count": 7,
   "metadata": {},
   "outputs": [
    {
     "name": "stdout",
     "output_type": "stream",
     "text": [
      "Completed epoch 0\n",
      "Completed epoch 10\n",
      "Completed epoch 20\n",
      "Completed epoch 30\n",
      "Completed epoch 40\n",
      "Completed epoch 50\n",
      "Completed epoch 60\n",
      "Completed epoch 70\n",
      "Completed epoch 80\n",
      "Completed epoch 90\n"
     ]
    }
   ],
   "source": [
    "som =  SOM(votes, (100,31))\n",
    "som.train(0.1, 100, starting_fraction = 50, func = 'manhattan')\n",
    "votes_prediction = som.predict(votes, votes_labels)"
   ]
  },
  {
   "cell_type": "code",
   "execution_count": 24,
   "metadata": {
    "collapsed": true
   },
   "outputs": [],
   "source": [
    "def to_grid(data):\n",
    "    result = np.empty((349,2))\n",
    "    i = 0\n",
    "    for datapoint in data:\n",
    "        x = floor(datapoint/10)\n",
    "        y = datapoint%10\n",
    "        result[i, 0] = x\n",
    "        result[i, 1] = y\n",
    "        i = i+1\n",
    "    return result"
   ]
  },
  {
   "cell_type": "code",
   "execution_count": 25,
   "metadata": {
    "collapsed": true
   },
   "outputs": [],
   "source": [
    "npgrid = to_grid(votes_prediction[:,0])\n",
    "unique, counts = np.unique(npgrid, return_counts=True, axis = 0)\n",
    "counts = counts.reshape(unique.shape[0],1)\n",
    "compact_grid = np.column_stack((unique,counts))"
   ]
  },
  {
   "cell_type": "code",
   "execution_count": 26,
   "metadata": {
    "collapsed": true
   },
   "outputs": [],
   "source": [
    "names = (pd.DataFrame(mpnames)\n",
    "             .rename(columns={0:'names'})\n",
    "             .reindex(votes_prediction[:,1])\n",
    "             .reset_index()\n",
    "             .rename(columns={'index':'id'}))\n",
    "sex = (pd.DataFrame(mpsex)\n",
    "             .rename(columns={0:'sex'})\n",
    "             .reindex(votes_prediction[:,1])\n",
    "             .reset_index()\n",
    "             .rename(columns={'index':'id'}))\n",
    "district = (pd.DataFrame(mpdistrict)\n",
    "             .rename(columns={0:'district'})\n",
    "             .reindex(votes_prediction[:,1])\n",
    "             .reset_index()\n",
    "             .rename(columns={'index':'id'}))\n",
    "party = (pd.DataFrame(mpparty)\n",
    "             .rename(columns={0:'party'})\n",
    "             .reindex(votes_prediction[:,1])\n",
    "             .reset_index()\n",
    "             .rename(columns={'index':'id'}))"
   ]
  },
  {
   "cell_type": "code",
   "execution_count": 27,
   "metadata": {
    "collapsed": true
   },
   "outputs": [],
   "source": [
    "grid = (pd.DataFrame(npgrid)\n",
    "          .rename(columns={0:'x',1:'y'}))\n",
    "grid['original_output'] = votes_prediction[:,0]\n",
    "grid['id'] = votes_prediction[:,1]\n",
    "\n",
    "\n",
    "#Merge shit here!\n",
    "grid = (grid.merge(names, how ='left', on='id')\n",
    "            .merge(sex, how = 'left', on ='id')\n",
    "            .merge(district, how ='left', on = 'id')\n",
    "            .merge(party, how ='left', on='id')\n",
    "            .merge(pd.DataFrame(compact_grid).rename(columns={0:'x',1:'y',2:'count'}), on =['x','y'], how = 'left'))"
   ]
  },
  {
   "cell_type": "code",
   "execution_count": 28,
   "metadata": {},
   "outputs": [
    {
     "data": {
      "text/html": [
       "<div>\n",
       "<style scoped>\n",
       "    .dataframe tbody tr th:only-of-type {\n",
       "        vertical-align: middle;\n",
       "    }\n",
       "\n",
       "    .dataframe tbody tr th {\n",
       "        vertical-align: top;\n",
       "    }\n",
       "\n",
       "    .dataframe thead th {\n",
       "        text-align: right;\n",
       "    }\n",
       "</style>\n",
       "<table border=\"1\" class=\"dataframe\">\n",
       "  <thead>\n",
       "    <tr style=\"text-align: right;\">\n",
       "      <th></th>\n",
       "      <th>x</th>\n",
       "      <th>y</th>\n",
       "      <th>original_output</th>\n",
       "      <th>id</th>\n",
       "      <th>names</th>\n",
       "      <th>sex</th>\n",
       "      <th>district</th>\n",
       "      <th>party</th>\n",
       "      <th>count</th>\n",
       "    </tr>\n",
       "  </thead>\n",
       "  <tbody>\n",
       "    <tr>\n",
       "      <th>0</th>\n",
       "      <td>0.0</td>\n",
       "      <td>0.0</td>\n",
       "      <td>0</td>\n",
       "      <td>250</td>\n",
       "      <td>Gustafsson Holger</td>\n",
       "      <td>1.0</td>\n",
       "      <td>20.0</td>\n",
       "      <td>3.0</td>\n",
       "      <td>22.0</td>\n",
       "    </tr>\n",
       "    <tr>\n",
       "      <th>1</th>\n",
       "      <td>0.0</td>\n",
       "      <td>0.0</td>\n",
       "      <td>0</td>\n",
       "      <td>223</td>\n",
       "      <td>Runegrund Rosita</td>\n",
       "      <td>1.0</td>\n",
       "      <td>17.0</td>\n",
       "      <td>1.0</td>\n",
       "      <td>22.0</td>\n",
       "    </tr>\n",
       "    <tr>\n",
       "      <th>2</th>\n",
       "      <td>0.0</td>\n",
       "      <td>0.0</td>\n",
       "      <td>0</td>\n",
       "      <td>173</td>\n",
       "      <td>Althin Peter</td>\n",
       "      <td>1.0</td>\n",
       "      <td>13.0</td>\n",
       "      <td>1.0</td>\n",
       "      <td>22.0</td>\n",
       "    </tr>\n",
       "    <tr>\n",
       "      <th>3</th>\n",
       "      <td>0.0</td>\n",
       "      <td>0.0</td>\n",
       "      <td>0</td>\n",
       "      <td>277</td>\n",
       "      <td>Persson Sven Gunnar</td>\n",
       "      <td>0.0</td>\n",
       "      <td>22.0</td>\n",
       "      <td>7.0</td>\n",
       "      <td>22.0</td>\n",
       "    </tr>\n",
       "    <tr>\n",
       "      <th>4</th>\n",
       "      <td>0.0</td>\n",
       "      <td>0.0</td>\n",
       "      <td>0</td>\n",
       "      <td>212</td>\n",
       "      <td>Enochson Annelie</td>\n",
       "      <td>0.0</td>\n",
       "      <td>16.0</td>\n",
       "      <td>1.0</td>\n",
       "      <td>22.0</td>\n",
       "    </tr>\n",
       "  </tbody>\n",
       "</table>\n",
       "</div>"
      ],
      "text/plain": [
       "     x    y original_output   id                names  sex  district  party  \\\n",
       "0  0.0  0.0               0  250    Gustafsson Holger  1.0      20.0    3.0   \n",
       "1  0.0  0.0               0  223     Runegrund Rosita  1.0      17.0    1.0   \n",
       "2  0.0  0.0               0  173         Althin Peter  1.0      13.0    1.0   \n",
       "3  0.0  0.0               0  277  Persson Sven Gunnar  0.0      22.0    7.0   \n",
       "4  0.0  0.0               0  212     Enochson Annelie  0.0      16.0    1.0   \n",
       "\n",
       "   count  \n",
       "0   22.0  \n",
       "1   22.0  \n",
       "2   22.0  \n",
       "3   22.0  \n",
       "4   22.0  "
      ]
     },
     "execution_count": 28,
     "metadata": {},
     "output_type": "execute_result"
    }
   ],
   "source": [
    "grid.head()"
   ]
  },
  {
   "cell_type": "code",
   "execution_count": 34,
   "metadata": {},
   "outputs": [
    {
     "name": "stdout",
     "output_type": "stream",
     "text": [
      "162\n"
     ]
    },
    {
     "data": {
      "image/png": "[encoded data removed]",
      "text/plain": [
       "<matplotlib.figure.Figure at 0xc2eab70>"
      ]
     },
     "metadata": {},
     "output_type": "display_data"
    },
    {
     "name": "stdout",
     "output_type": "stream",
     "text": [
      "186\n"
     ]
    },
    {
     "data": {
      "image/png": "[encoded data removed]",
      "text/plain": [
       "<matplotlib.figure.Figure at 0xbd659e8>"
      ]
     },
     "metadata": {},
     "output_type": "display_data"
    },
    {
     "name": "stdout",
     "output_type": "stream",
     "text": [
      "0\n"
     ]
    },
    {
     "data": {
      "image/png": "[encoded data removed]",
      "text/plain": [
       "<matplotlib.figure.Figure at 0xd103860>"
      ]
     },
     "metadata": {},
     "output_type": "display_data"
    }
   ],
   "source": [
    "for value in grid['sex'].unique():\n",
    "    df = grid[grid.sex==value]\n",
    "    plt.scatter(df['x'], df['y'], s=df['count'], c=df['sex'],alpha=0.5,marker=\"+\",edgecolors=\"r\")\n",
    "    axes = plt.gca()\n",
    "    axes.set_xlim([0,10])\n",
    "    axes.set_ylim([0,10])\n",
    "    print(len(df))\n",
    "    plt.show()"
   ]
  },
  {
   "cell_type": "code",
   "execution_count": 30,
   "metadata": {},
   "outputs": [
    {
     "data": {
      "image/png": "[encoded data removed]",
      "text/plain": [
       "<matplotlib.figure.Figure at 0xbd7fc18>"
      ]
     },
     "metadata": {},
     "output_type": "display_data"
    },
    {
     "data": {
      "image/png": "[encoded data removed]",
      "text/plain": [
       "<matplotlib.figure.Figure at 0xc4570f0>"
      ]
     },
     "metadata": {},
     "output_type": "display_data"
    },
    {
     "data": {
      "image/png": "[encoded data removed]",
      "text/plain": [
       "<matplotlib.figure.Figure at 0xcd7d5c0>"
      ]
     },
     "metadata": {},
     "output_type": "display_data"
    },
    {
     "data": {
      "image/png": "[encoded data removed]",
      "text/plain": [
       "<matplotlib.figure.Figure at 0xc457b00>"
      ]
     },
     "metadata": {},
     "output_type": "display_data"
    },
    {
     "data": {
      "image/png": "[encoded data removed]",
      "text/plain": [
       "<matplotlib.figure.Figure at 0xd0548d0>"
      ]
     },
     "metadata": {},
     "output_type": "display_data"
    },
    {
     "data": {
      "image/png": "[encoded data removed]",
      "text/plain": [
       "<matplotlib.figure.Figure at 0xc457f60>"
      ]
     },
     "metadata": {},
     "output_type": "display_data"
    },
    {
     "data": {
      "image/png": "[encoded data removed]",
      "text/plain": [
       "<matplotlib.figure.Figure at 0xcee7588>"
      ]
     },
     "metadata": {},
     "output_type": "display_data"
    },
    {
     "data": {
      "image/png": "[encoded data removed]",
      "text/plain": [
       "<matplotlib.figure.Figure at 0xc457c50>"
      ]
     },
     "metadata": {},
     "output_type": "display_data"
    },
    {
     "data": {
      "image/png": "[encoded data removed]",
      "text/plain": [
       "<matplotlib.figure.Figure at 0xd0540f0>"
      ]
     },
     "metadata": {},
     "output_type": "display_data"
    }
   ],
   "source": [
    "for value in grid['party'].unique():\n",
    "    df = grid[grid.party==value]\n",
    "    plt.scatter(df['x'], df['y'], s=df['count'], c=df['party'],alpha=0.5,marker=\"+\",edgecolors=\"green\")\n",
    "    axes = plt.gca()\n",
    "    axes.set_xlim([0,10])\n",
    "    axes.set_ylim([0,10])\n",
    "    plt.title('party number {}'.format(value))\n",
    "    plt.show()"
   ]
  },
  {
   "cell_type": "code",
   "execution_count": 32,
   "metadata": {},
   "outputs": [
    {
     "name": "stdout",
     "output_type": "stream",
     "text": [
      "9\n"
     ]
    },
    {
     "data": {
      "image/png": "[encoded data removed]",
      "text/plain": [
       "<matplotlib.figure.Figure at 0xc34b6a0>"
      ]
     },
     "metadata": {},
     "output_type": "display_data"
    },
    {
     "name": "stdout",
     "output_type": "stream",
     "text": [
      "13\n"
     ]
    },
    {
     "data": {
      "image/png": "[encoded data removed]",
      "text/plain": [
       "<matplotlib.figure.Figure at 0x8565c88>"
      ]
     },
     "metadata": {},
     "output_type": "display_data"
    },
    {
     "name": "stdout",
     "output_type": "stream",
     "text": [
      "14\n"
     ]
    },
    {
     "data": {
      "image/png": "[encoded data removed]",
      "text/plain": [
       "<matplotlib.figure.Figure at 0xc34b2e8>"
      ]
     },
     "metadata": {},
     "output_type": "display_data"
    },
    {
     "name": "stdout",
     "output_type": "stream",
     "text": [
      "11\n"
     ]
    },
    {
     "data": {
      "image/png": "[encoded data removed]",
      "text/plain": [
       "<matplotlib.figure.Figure at 0xbd690b8>"
      ]
     },
     "metadata": {},
     "output_type": "display_data"
    },
    {
     "name": "stdout",
     "output_type": "stream",
     "text": [
      "18\n"
     ]
    },
    {
     "data": {
      "image/png": "[encoded data removed]",
      "text/plain": [
       "<matplotlib.figure.Figure at 0xc34b390>"
      ]
     },
     "metadata": {},
     "output_type": "display_data"
    },
    {
     "name": "stdout",
     "output_type": "stream",
     "text": [
      "17\n"
     ]
    },
    {
     "data": {
      "image/png": "[encoded data removed]",
      "text/plain": [
       "<matplotlib.figure.Figure at 0xc6c36d8>"
      ]
     },
     "metadata": {},
     "output_type": "display_data"
    },
    {
     "name": "stdout",
     "output_type": "stream",
     "text": [
      "39\n"
     ]
    },
    {
     "data": {
      "image/png": "[encoded data removed]",
      "text/plain": [
       "<matplotlib.figure.Figure at 0xc34b320>"
      ]
     },
     "metadata": {},
     "output_type": "display_data"
    },
    {
     "name": "stdout",
     "output_type": "stream",
     "text": [
      "29\n"
     ]
    },
    {
     "data": {
      "image/png": "[encoded data removed]",
      "text/plain": [
       "<matplotlib.figure.Figure at 0xbd694a8>"
      ]
     },
     "metadata": {},
     "output_type": "display_data"
    },
    {
     "name": "stdout",
     "output_type": "stream",
     "text": [
      "11\n"
     ]
    },
    {
     "data": {
      "image/png": "[encoded data removed]",
      "text/plain": [
       "<matplotlib.figure.Figure at 0xbebbeb8>"
      ]
     },
     "metadata": {},
     "output_type": "display_data"
    },
    {
     "name": "stdout",
     "output_type": "stream",
     "text": [
      "6\n"
     ]
    },
    {
     "data": {
      "image/png": "[encoded data removed]",
      "text/plain": [
       "<matplotlib.figure.Figure at 0xc5f5e80>"
      ]
     },
     "metadata": {},
     "output_type": "display_data"
    },
    {
     "name": "stdout",
     "output_type": "stream",
     "text": [
      "11\n"
     ]
    },
    {
     "data": {
      "image/png": "[encoded data removed]",
      "text/plain": [
       "<matplotlib.figure.Figure at 0xc3bf390>"
      ]
     },
     "metadata": {},
     "output_type": "display_data"
    },
    {
     "name": "stdout",
     "output_type": "stream",
     "text": [
      "10\n"
     ]
    },
    {
     "data": {
      "image/png": "[encoded data removed]",
      "text/plain": [
       "<matplotlib.figure.Figure at 0xc3bf2b0>"
      ]
     },
     "metadata": {},
     "output_type": "display_data"
    },
    {
     "name": "stdout",
     "output_type": "stream",
     "text": [
      "11\n"
     ]
    },
    {
     "data": {
      "image/png": "[encoded data removed]",
      "text/plain": [
       "<matplotlib.figure.Figure at 0xc279668>"
      ]
     },
     "metadata": {},
     "output_type": "display_data"
    },
    {
     "name": "stdout",
     "output_type": "stream",
     "text": [
      "7\n"
     ]
    },
    {
     "data": {
      "image/png": "[encoded data removed]",
      "text/plain": [
       "<matplotlib.figure.Figure at 0xc3bf780>"
      ]
     },
     "metadata": {},
     "output_type": "display_data"
    },
    {
     "name": "stdout",
     "output_type": "stream",
     "text": [
      "9\n"
     ]
    },
    {
     "data": {
      "image/png": "[encoded data removed]",
      "text/plain": [
       "<matplotlib.figure.Figure at 0xc4849b0>"
      ]
     },
     "metadata": {},
     "output_type": "display_data"
    },
    {
     "name": "stdout",
     "output_type": "stream",
     "text": [
      "11\n"
     ]
    },
    {
     "data": {
      "image/png": "[encoded data removed]",
      "text/plain": [
       "<matplotlib.figure.Figure at 0xc3bf8d0>"
      ]
     },
     "metadata": {},
     "output_type": "display_data"
    },
    {
     "name": "stdout",
     "output_type": "stream",
     "text": [
      "7\n"
     ]
    },
    {
     "data": {
      "image/png": "[encoded data removed]",
      "text/plain": [
       "<matplotlib.figure.Figure at 0xc2e6dd8>"
      ]
     },
     "metadata": {},
     "output_type": "display_data"
    },
    {
     "name": "stdout",
     "output_type": "stream",
     "text": [
      "10\n"
     ]
    },
    {
     "data": {
      "image/png": "[encoded data removed]",
      "text/plain": [
       "<matplotlib.figure.Figure at 0xd97a2b0>"
      ]
     },
     "metadata": {},
     "output_type": "display_data"
    },
    {
     "name": "stdout",
     "output_type": "stream",
     "text": [
      "11\n"
     ]
    },
    {
     "data": {
      "image/png": "[encoded data removed]",
      "text/plain": [
       "<matplotlib.figure.Figure at 0xcd7f4e0>"
      ]
     },
     "metadata": {},
     "output_type": "display_data"
    },
    {
     "name": "stdout",
     "output_type": "stream",
     "text": [
      "10\n"
     ]
    },
    {
     "data": {
      "image/png": "[encoded data removed]",
      "text/plain": [
       "<matplotlib.figure.Figure at 0xc5ca128>"
      ]
     },
     "metadata": {},
     "output_type": "display_data"
    },
    {
     "name": "stdout",
     "output_type": "stream",
     "text": [
      "10\n"
     ]
    },
    {
     "data": {
      "image/png": "[encoded data removed]",
      "text/plain": [
       "<matplotlib.figure.Figure at 0xc2c22e8>"
      ]
     },
     "metadata": {},
     "output_type": "display_data"
    },
    {
     "name": "stdout",
     "output_type": "stream",
     "text": [
      "11\n"
     ]
    },
    {
     "data": {
      "image/png": "[encoded data removed]",
      "text/plain": [
       "<matplotlib.figure.Figure at 0xc2bdf60>"
      ]
     },
     "metadata": {},
     "output_type": "display_data"
    },
    {
     "name": "stdout",
     "output_type": "stream",
     "text": [
      "11\n"
     ]
    },
    {
     "data": {
      "image/png": "[encoded data removed]",
      "text/plain": [
       "<matplotlib.figure.Figure at 0xd5c69b0>"
      ]
     },
     "metadata": {},
     "output_type": "display_data"
    },
    {
     "name": "stdout",
     "output_type": "stream",
     "text": [
      "9\n"
     ]
    },
    {
     "data": {
      "image/png": "[encoded data removed]",
      "text/plain": [
       "<matplotlib.figure.Figure at 0xc133978>"
      ]
     },
     "metadata": {},
     "output_type": "display_data"
    },
    {
     "name": "stdout",
     "output_type": "stream",
     "text": [
      "6\n"
     ]
    },
    {
     "data": {
      "image/png": "[encoded data removed]",
      "text/plain": [
       "<matplotlib.figure.Figure at 0xc2c21d0>"
      ]
     },
     "metadata": {},
     "output_type": "display_data"
    },
    {
     "name": "stdout",
     "output_type": "stream",
     "text": [
      "13\n"
     ]
    },
    {
     "data": {
      "image/png": "[encoded data removed]",
      "text/plain": [
       "<matplotlib.figure.Figure at 0xc2bdc50>"
      ]
     },
     "metadata": {},
     "output_type": "display_data"
    },
    {
     "name": "stdout",
     "output_type": "stream",
     "text": [
      "11\n"
     ]
    },
    {
     "data": {
      "image/png": "[encoded data removed]",
      "text/plain": [
       "<matplotlib.figure.Figure at 0xbed47b8>"
      ]
     },
     "metadata": {},
     "output_type": "display_data"
    },
    {
     "name": "stdout",
     "output_type": "stream",
     "text": [
      "2\n"
     ]
    },
    {
     "data": {
      "image/png": "[encoded data removed]",
      "text/plain": [
       "<matplotlib.figure.Figure at 0xcf063c8>"
      ]
     },
     "metadata": {},
     "output_type": "display_data"
    },
    {
     "name": "stdout",
     "output_type": "stream",
     "text": [
      "12\n"
     ]
    },
    {
     "data": {
      "image/png": "[encoded data removed]",
      "text/plain": [
       "<matplotlib.figure.Figure at 0xc62b588>"
      ]
     },
     "metadata": {},
     "output_type": "display_data"
    }
   ],
   "source": [
    "for value in grid['district'].unique():\n",
    "    df = grid[grid.district==value]\n",
    "    plt.scatter(df['x'], df['y'], s=df['count'], c=df['district'],alpha=0.5,marker=\"+\",edgecolors=\"green\")\n",
    "    axes = plt.gca()\n",
    "    axes.set_xlim([0,10])\n",
    "    axes.set_ylim([0,10])\n",
    "    print(len(df))\n",
    "    plt.show()"
   ]
  },
  {
   "cell_type": "code",
   "execution_count": 33,
   "metadata": {},
   "outputs": [
    {
     "data": {
      "text/plain": [
       "2.0     39\n",
       "1.0     29\n",
       "16.0    18\n",
       "5.0     17\n",
       "13.0    14\n",
       "6.0     13\n",
       "17.0    13\n",
       "3.0     12\n",
       "22.0    11\n",
       "28.0    11\n",
       "4.0     11\n",
       "25.0    11\n",
       "15.0    11\n",
       "24.0    11\n",
       "21.0    11\n",
       "14.0    11\n",
       "29.0    11\n",
       "12.0    10\n",
       "26.0    10\n",
       "18.0    10\n",
       "23.0    10\n",
       "8.0      9\n",
       "11.0     9\n",
       "20.0     9\n",
       "19.0     7\n",
       "7.0      7\n",
       "10.0     6\n",
       "27.0     6\n",
       "9.0      2\n",
       "Name: district, dtype: int64"
      ]
     },
     "execution_count": 33,
     "metadata": {},
     "output_type": "execute_result"
    }
   ],
   "source": [
    "grid.district.value_counts()"
   ]
  },
  {
   "cell_type": "code",
   "execution_count": null,
   "metadata": {
    "collapsed": true
   },
   "outputs": [],
   "source": []
  }
 ],
 "metadata": {
  "kernelspec": {
   "display_name": "Python [conda env:py27]",
   "language": "python",
   "name": "conda-env-py27-py"
  },
  "language_info": {
   "codemirror_mode": {
    "name": "ipython",
    "version": 2
   },
   "file_extension": ".py",
   "mimetype": "text/x-python",
   "name": "python",
   "nbconvert_exporter": "python",
   "pygments_lexer": "ipython2",
   "version": "2.7.14"
  }
 },
 "nbformat": 4,
 "nbformat_minor": 2
}
