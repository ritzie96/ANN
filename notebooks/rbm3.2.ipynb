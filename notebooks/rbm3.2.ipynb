{
 "cells": [
  {
   "cell_type": "code",
   "execution_count": 1,
   "metadata": {
    "collapsed": true
   },
   "outputs": [],
   "source": [
    "import numpy as np\n",
    "import pandas as pd\n",
    "import matplotlib.pyplot as plt\n",
    "from sklearn.neural_network import BernoulliRBM\n",
    "\n",
    "from sklearn.pipeline import Pipeline\n",
    "from sklearn.linear_model import LogisticRegression\n",
    "from sklearn import metrics\n",
    "from sklearn.neural_network import MLPClassifier"
   ]
  },
  {
   "cell_type": "code",
   "execution_count": 2,
   "metadata": {
    "collapsed": true
   },
   "outputs": [],
   "source": [
    "X_train = pd.read_csv(\"bindigit_trn.csv\",header=None,dtype=np.float32).as_matrix()\n",
    "y_train = pd.read_csv(\"targetdigit_trn.csv\",header=None,names=[\"Label\"],dtype=np.float32).as_matrix()\n",
    "\n",
    "X_test = pd.read_csv(\"bindigit_tst.csv\",header=None,dtype=np.float32).as_matrix()\n",
    "y_test = pd.read_csv(\"targetdigit_tst.csv\",header=None,names=[\"Label\"],dtype=np.float32).as_matrix()"
   ]
  },
  {
   "cell_type": "code",
   "execution_count": 3,
   "metadata": {
    "collapsed": true
   },
   "outputs": [],
   "source": [
    "y_train = y_train.reshape(8000,)\n",
    "y_test = y_test.reshape(2000,)"
   ]
  },
  {
   "cell_type": "code",
   "execution_count": 4,
   "metadata": {
    "collapsed": true
   },
   "outputs": [],
   "source": [
    "epochs = 100\n",
    "\n",
    "rbm_layer1 = BernoulliRBM(n_components=150, learning_rate=0.01,n_iter=epochs,\n",
    "                     batch_size=64, random_state=42,verbose=True)\n",
    "\n",
    "rbm_layer2 = BernoulliRBM(n_components=100, learning_rate=0.01,n_iter=epochs,\n",
    "                     batch_size=64, random_state=42,verbose=True)\n",
    "\n",
    "rbm_layer3 = BernoulliRBM(n_components=50, learning_rate=0.01,n_iter=epochs,\n",
    "                     batch_size=64, random_state=42,verbose=True)\n",
    "\n",
    "nn = MLPClassifier(hidden_layer_sizes=(100,),\n",
    "                   activation='relu', solver='adam',alpha=0.01)\n",
    "#logistic1 = LogisticRegression(C=100,verbose=True)\n",
    "#logistic2 = LogisticRegression(C=100,verbose=True)\n",
    "#classifier = Pipeline(steps=[('rbm1', rbm_layer1),('mlp',nn)])\n",
    "#classifier = Pipeline(steps=[('rbm1', rbm_layer1),('rbm2',rbm_layer2),('rbm3',rbm_layer3),('mlp',nn)])\n",
    "classifier = Pipeline(steps=[('rbm1', rbm_layer1),('rbm2',rbm_layer2),('mlp',nn)])\n",
    "#classifier = Pipeline(steps=[('rbm1', rbm_layer1),('logistic',logistic1)])"
   ]
  },
  {
   "cell_type": "code",
   "execution_count": null,
   "metadata": {
    "collapsed": true
   },
   "outputs": [],
   "source": [
    "#logistic2.fit(X_train,y_train)"
   ]
  },
  {
   "cell_type": "code",
   "execution_count": 5,
   "metadata": {},
   "outputs": [
    {
     "name": "stdout",
     "output_type": "stream",
     "text": [
      "[BernoulliRBM] Iteration 1, pseudo-likelihood = -290.29, time = 2.75s\n",
      "[BernoulliRBM] Iteration 2, pseudo-likelihood = -245.07, time = 4.11s\n",
      "[BernoulliRBM] Iteration 3, pseudo-likelihood = -198.32, time = 3.47s\n",
      "[BernoulliRBM] Iteration 4, pseudo-likelihood = -183.22, time = 3.35s\n",
      "[BernoulliRBM] Iteration 5, pseudo-likelihood = -171.19, time = 2.54s\n",
      "[BernoulliRBM] Iteration 6, pseudo-likelihood = -162.72, time = 2.28s\n",
      "[BernoulliRBM] Iteration 7, pseudo-likelihood = -156.87, time = 3.40s\n",
      "[BernoulliRBM] Iteration 8, pseudo-likelihood = -152.39, time = 3.05s\n",
      "[BernoulliRBM] Iteration 9, pseudo-likelihood = -148.09, time = 2.48s\n",
      "[BernoulliRBM] Iteration 10, pseudo-likelihood = -145.17, time = 2.45s\n",
      "[BernoulliRBM] Iteration 11, pseudo-likelihood = -142.37, time = 3.04s\n",
      "[BernoulliRBM] Iteration 12, pseudo-likelihood = -139.79, time = 4.02s\n",
      "[BernoulliRBM] Iteration 13, pseudo-likelihood = -137.43, time = 3.71s\n",
      "[BernoulliRBM] Iteration 14, pseudo-likelihood = -135.00, time = 3.55s\n",
      "[BernoulliRBM] Iteration 15, pseudo-likelihood = -132.67, time = 3.53s\n",
      "[BernoulliRBM] Iteration 16, pseudo-likelihood = -130.02, time = 3.76s\n",
      "[BernoulliRBM] Iteration 17, pseudo-likelihood = -128.64, time = 3.56s\n",
      "[BernoulliRBM] Iteration 18, pseudo-likelihood = -126.69, time = 2.83s\n",
      "[BernoulliRBM] Iteration 19, pseudo-likelihood = -125.47, time = 2.35s\n",
      "[BernoulliRBM] Iteration 20, pseudo-likelihood = -124.10, time = 2.20s\n",
      "[BernoulliRBM] Iteration 21, pseudo-likelihood = -122.22, time = 1.93s\n",
      "[BernoulliRBM] Iteration 22, pseudo-likelihood = -121.29, time = 2.67s\n",
      "[BernoulliRBM] Iteration 23, pseudo-likelihood = -119.89, time = 3.43s\n",
      "[BernoulliRBM] Iteration 24, pseudo-likelihood = -119.12, time = 3.42s\n",
      "[BernoulliRBM] Iteration 25, pseudo-likelihood = -117.74, time = 3.67s\n",
      "[BernoulliRBM] Iteration 26, pseudo-likelihood = -116.81, time = 3.38s\n",
      "[BernoulliRBM] Iteration 27, pseudo-likelihood = -115.74, time = 3.47s\n",
      "[BernoulliRBM] Iteration 28, pseudo-likelihood = -114.59, time = 3.51s\n",
      "[BernoulliRBM] Iteration 29, pseudo-likelihood = -113.10, time = 2.62s\n",
      "[BernoulliRBM] Iteration 30, pseudo-likelihood = -112.23, time = 3.63s\n",
      "[BernoulliRBM] Iteration 31, pseudo-likelihood = -111.33, time = 3.70s\n",
      "[BernoulliRBM] Iteration 32, pseudo-likelihood = -110.49, time = 3.26s\n",
      "[BernoulliRBM] Iteration 33, pseudo-likelihood = -109.56, time = 2.55s\n",
      "[BernoulliRBM] Iteration 34, pseudo-likelihood = -109.02, time = 3.48s\n",
      "[BernoulliRBM] Iteration 35, pseudo-likelihood = -108.03, time = 3.70s\n",
      "[BernoulliRBM] Iteration 36, pseudo-likelihood = -107.41, time = 3.33s\n",
      "[BernoulliRBM] Iteration 37, pseudo-likelihood = -107.01, time = 3.64s\n",
      "[BernoulliRBM] Iteration 38, pseudo-likelihood = -105.83, time = 2.92s\n",
      "[BernoulliRBM] Iteration 39, pseudo-likelihood = -105.50, time = 2.12s\n",
      "[BernoulliRBM] Iteration 40, pseudo-likelihood = -104.71, time = 1.98s\n",
      "[BernoulliRBM] Iteration 41, pseudo-likelihood = -104.48, time = 3.42s\n",
      "[BernoulliRBM] Iteration 42, pseudo-likelihood = -103.44, time = 3.10s\n",
      "[BernoulliRBM] Iteration 43, pseudo-likelihood = -103.16, time = 2.76s\n",
      "[BernoulliRBM] Iteration 44, pseudo-likelihood = -102.46, time = 2.20s\n",
      "[BernoulliRBM] Iteration 45, pseudo-likelihood = -102.00, time = 2.03s\n",
      "[BernoulliRBM] Iteration 46, pseudo-likelihood = -101.71, time = 1.96s\n",
      "[BernoulliRBM] Iteration 47, pseudo-likelihood = -100.82, time = 3.81s\n",
      "[BernoulliRBM] Iteration 48, pseudo-likelihood = -100.42, time = 3.31s\n",
      "[BernoulliRBM] Iteration 49, pseudo-likelihood = -99.94, time = 2.50s\n",
      "[BernoulliRBM] Iteration 50, pseudo-likelihood = -99.44, time = 2.27s\n",
      "[BernoulliRBM] Iteration 51, pseudo-likelihood = -98.79, time = 3.86s\n",
      "[BernoulliRBM] Iteration 52, pseudo-likelihood = -99.16, time = 2.86s\n",
      "[BernoulliRBM] Iteration 53, pseudo-likelihood = -97.74, time = 2.06s\n",
      "[BernoulliRBM] Iteration 54, pseudo-likelihood = -97.99, time = 1.94s\n",
      "[BernoulliRBM] Iteration 55, pseudo-likelihood = -97.37, time = 1.89s\n",
      "[BernoulliRBM] Iteration 56, pseudo-likelihood = -96.93, time = 1.67s\n",
      "[BernoulliRBM] Iteration 57, pseudo-likelihood = -96.42, time = 1.66s\n",
      "[BernoulliRBM] Iteration 58, pseudo-likelihood = -96.20, time = 2.28s\n",
      "[BernoulliRBM] Iteration 59, pseudo-likelihood = -95.82, time = 3.10s\n",
      "[BernoulliRBM] Iteration 60, pseudo-likelihood = -95.48, time = 2.20s\n",
      "[BernoulliRBM] Iteration 61, pseudo-likelihood = -94.88, time = 1.90s\n",
      "[BernoulliRBM] Iteration 62, pseudo-likelihood = -94.85, time = 1.87s\n",
      "[BernoulliRBM] Iteration 63, pseudo-likelihood = -94.45, time = 2.07s\n",
      "[BernoulliRBM] Iteration 64, pseudo-likelihood = -94.06, time = 3.43s\n",
      "[BernoulliRBM] Iteration 65, pseudo-likelihood = -94.08, time = 3.70s\n",
      "[BernoulliRBM] Iteration 66, pseudo-likelihood = -93.30, time = 2.56s\n",
      "[BernoulliRBM] Iteration 67, pseudo-likelihood = -93.26, time = 3.99s\n",
      "[BernoulliRBM] Iteration 68, pseudo-likelihood = -92.67, time = 3.30s\n",
      "[BernoulliRBM] Iteration 69, pseudo-likelihood = -92.21, time = 3.88s\n",
      "[BernoulliRBM] Iteration 70, pseudo-likelihood = -91.97, time = 3.66s\n",
      "[BernoulliRBM] Iteration 71, pseudo-likelihood = -92.10, time = 3.39s\n",
      "[BernoulliRBM] Iteration 72, pseudo-likelihood = -91.46, time = 3.62s\n",
      "[BernoulliRBM] Iteration 73, pseudo-likelihood = -91.47, time = 3.95s\n",
      "[BernoulliRBM] Iteration 74, pseudo-likelihood = -91.41, time = 3.15s\n",
      "[BernoulliRBM] Iteration 75, pseudo-likelihood = -91.29, time = 3.60s\n",
      "[BernoulliRBM] Iteration 76, pseudo-likelihood = -90.76, time = 3.17s\n",
      "[BernoulliRBM] Iteration 77, pseudo-likelihood = -90.25, time = 2.30s\n",
      "[BernoulliRBM] Iteration 78, pseudo-likelihood = -90.03, time = 3.77s\n",
      "[BernoulliRBM] Iteration 79, pseudo-likelihood = -89.59, time = 3.14s\n",
      "[BernoulliRBM] Iteration 80, pseudo-likelihood = -89.70, time = 3.40s\n",
      "[BernoulliRBM] Iteration 81, pseudo-likelihood = -89.03, time = 3.59s\n",
      "[BernoulliRBM] Iteration 82, pseudo-likelihood = -89.14, time = 2.29s\n",
      "[BernoulliRBM] Iteration 83, pseudo-likelihood = -88.81, time = 2.10s\n",
      "[BernoulliRBM] Iteration 84, pseudo-likelihood = -88.85, time = 1.88s\n",
      "[BernoulliRBM] Iteration 85, pseudo-likelihood = -88.68, time = 1.75s\n",
      "[BernoulliRBM] Iteration 86, pseudo-likelihood = -88.10, time = 1.86s\n",
      "[BernoulliRBM] Iteration 87, pseudo-likelihood = -87.62, time = 1.67s\n",
      "[BernoulliRBM] Iteration 88, pseudo-likelihood = -87.64, time = 1.75s\n",
      "[BernoulliRBM] Iteration 89, pseudo-likelihood = -87.11, time = 1.91s\n",
      "[BernoulliRBM] Iteration 90, pseudo-likelihood = -86.91, time = 2.79s\n",
      "[BernoulliRBM] Iteration 91, pseudo-likelihood = -86.87, time = 3.63s\n",
      "[BernoulliRBM] Iteration 92, pseudo-likelihood = -86.39, time = 3.99s\n",
      "[BernoulliRBM] Iteration 93, pseudo-likelihood = -86.63, time = 3.97s\n",
      "[BernoulliRBM] Iteration 94, pseudo-likelihood = -86.68, time = 3.49s\n",
      "[BernoulliRBM] Iteration 95, pseudo-likelihood = -85.84, time = 3.12s\n",
      "[BernoulliRBM] Iteration 96, pseudo-likelihood = -85.87, time = 3.74s\n",
      "[BernoulliRBM] Iteration 97, pseudo-likelihood = -85.41, time = 3.60s\n",
      "[BernoulliRBM] Iteration 98, pseudo-likelihood = -85.56, time = 2.65s\n",
      "[BernoulliRBM] Iteration 99, pseudo-likelihood = -85.54, time = 2.13s\n",
      "[BernoulliRBM] Iteration 100, pseudo-likelihood = -85.61, time = 2.01s\n",
      "[BernoulliRBM] Iteration 1, pseudo-likelihood = -88.41, time = 0.31s\n",
      "[BernoulliRBM] Iteration 2, pseudo-likelihood = -88.06, time = 0.46s\n",
      "[BernoulliRBM] Iteration 3, pseudo-likelihood = -86.78, time = 0.44s\n",
      "[BernoulliRBM] Iteration 4, pseudo-likelihood = -83.56, time = 0.44s\n",
      "[BernoulliRBM] Iteration 5, pseudo-likelihood = -79.06, time = 0.42s\n",
      "[BernoulliRBM] Iteration 6, pseudo-likelihood = -75.22, time = 0.45s\n",
      "[BernoulliRBM] Iteration 7, pseudo-likelihood = -72.51, time = 0.82s\n",
      "[BernoulliRBM] Iteration 8, pseudo-likelihood = -70.61, time = 0.92s\n",
      "[BernoulliRBM] Iteration 9, pseudo-likelihood = -68.29, time = 1.20s\n",
      "[BernoulliRBM] Iteration 10, pseudo-likelihood = -66.11, time = 0.94s\n",
      "[BernoulliRBM] Iteration 11, pseudo-likelihood = -63.99, time = 1.06s\n",
      "[BernoulliRBM] Iteration 12, pseudo-likelihood = -62.41, time = 0.90s\n",
      "[BernoulliRBM] Iteration 13, pseudo-likelihood = -60.90, time = 1.12s\n",
      "[BernoulliRBM] Iteration 14, pseudo-likelihood = -59.75, time = 0.81s\n",
      "[BernoulliRBM] Iteration 15, pseudo-likelihood = -58.62, time = 0.76s\n",
      "[BernoulliRBM] Iteration 16, pseudo-likelihood = -57.46, time = 0.67s\n",
      "[BernoulliRBM] Iteration 17, pseudo-likelihood = -56.64, time = 0.67s\n"
     ]
    },
    {
     "name": "stdout",
     "output_type": "stream",
     "text": [
      "[BernoulliRBM] Iteration 18, pseudo-likelihood = -55.88, time = 0.80s\n",
      "[BernoulliRBM] Iteration 19, pseudo-likelihood = -55.29, time = 0.65s\n",
      "[BernoulliRBM] Iteration 20, pseudo-likelihood = -54.78, time = 0.59s\n",
      "[BernoulliRBM] Iteration 21, pseudo-likelihood = -53.98, time = 0.58s\n",
      "[BernoulliRBM] Iteration 22, pseudo-likelihood = -53.50, time = 0.61s\n",
      "[BernoulliRBM] Iteration 23, pseudo-likelihood = -52.87, time = 0.62s\n",
      "[BernoulliRBM] Iteration 24, pseudo-likelihood = -52.36, time = 0.55s\n",
      "[BernoulliRBM] Iteration 25, pseudo-likelihood = -51.77, time = 0.63s\n",
      "[BernoulliRBM] Iteration 26, pseudo-likelihood = -51.29, time = 0.58s\n",
      "[BernoulliRBM] Iteration 27, pseudo-likelihood = -50.84, time = 0.55s\n",
      "[BernoulliRBM] Iteration 28, pseudo-likelihood = -50.21, time = 0.53s\n",
      "[BernoulliRBM] Iteration 29, pseudo-likelihood = -49.76, time = 0.66s\n",
      "[BernoulliRBM] Iteration 30, pseudo-likelihood = -49.20, time = 1.23s\n",
      "[BernoulliRBM] Iteration 31, pseudo-likelihood = -48.81, time = 1.04s\n",
      "[BernoulliRBM] Iteration 32, pseudo-likelihood = -48.33, time = 1.04s\n",
      "[BernoulliRBM] Iteration 33, pseudo-likelihood = -47.99, time = 0.97s\n",
      "[BernoulliRBM] Iteration 34, pseudo-likelihood = -47.52, time = 0.94s\n",
      "[BernoulliRBM] Iteration 35, pseudo-likelihood = -47.20, time = 0.92s\n",
      "[BernoulliRBM] Iteration 36, pseudo-likelihood = -46.59, time = 0.92s\n",
      "[BernoulliRBM] Iteration 37, pseudo-likelihood = -46.49, time = 0.91s\n",
      "[BernoulliRBM] Iteration 38, pseudo-likelihood = -45.96, time = 0.77s\n",
      "[BernoulliRBM] Iteration 39, pseudo-likelihood = -45.59, time = 1.21s\n",
      "[BernoulliRBM] Iteration 40, pseudo-likelihood = -45.25, time = 1.00s\n",
      "[BernoulliRBM] Iteration 41, pseudo-likelihood = -44.96, time = 1.00s\n",
      "[BernoulliRBM] Iteration 42, pseudo-likelihood = -44.67, time = 1.01s\n",
      "[BernoulliRBM] Iteration 43, pseudo-likelihood = -44.37, time = 0.95s\n",
      "[BernoulliRBM] Iteration 44, pseudo-likelihood = -44.14, time = 1.04s\n",
      "[BernoulliRBM] Iteration 45, pseudo-likelihood = -43.82, time = 0.99s\n",
      "[BernoulliRBM] Iteration 46, pseudo-likelihood = -43.53, time = 0.91s\n",
      "[BernoulliRBM] Iteration 47, pseudo-likelihood = -43.15, time = 0.78s\n",
      "[BernoulliRBM] Iteration 48, pseudo-likelihood = -42.98, time = 0.75s\n",
      "[BernoulliRBM] Iteration 49, pseudo-likelihood = -42.66, time = 0.70s\n",
      "[BernoulliRBM] Iteration 50, pseudo-likelihood = -42.58, time = 0.61s\n",
      "[BernoulliRBM] Iteration 51, pseudo-likelihood = -42.24, time = 0.56s\n",
      "[BernoulliRBM] Iteration 52, pseudo-likelihood = -42.00, time = 0.67s\n",
      "[BernoulliRBM] Iteration 53, pseudo-likelihood = -41.97, time = 0.53s\n",
      "[BernoulliRBM] Iteration 54, pseudo-likelihood = -41.67, time = 0.50s\n",
      "[BernoulliRBM] Iteration 55, pseudo-likelihood = -41.42, time = 0.50s\n",
      "[BernoulliRBM] Iteration 56, pseudo-likelihood = -41.32, time = 0.52s\n",
      "[BernoulliRBM] Iteration 57, pseudo-likelihood = -41.14, time = 0.54s\n",
      "[BernoulliRBM] Iteration 58, pseudo-likelihood = -40.87, time = 0.49s\n",
      "[BernoulliRBM] Iteration 59, pseudo-likelihood = -40.62, time = 0.67s\n",
      "[BernoulliRBM] Iteration 60, pseudo-likelihood = -40.50, time = 0.95s\n",
      "[BernoulliRBM] Iteration 61, pseudo-likelihood = -40.32, time = 1.19s\n",
      "[BernoulliRBM] Iteration 62, pseudo-likelihood = -40.21, time = 0.98s\n",
      "[BernoulliRBM] Iteration 63, pseudo-likelihood = -39.98, time = 1.02s\n",
      "[BernoulliRBM] Iteration 64, pseudo-likelihood = -39.82, time = 1.17s\n",
      "[BernoulliRBM] Iteration 65, pseudo-likelihood = -39.71, time = 1.06s\n",
      "[BernoulliRBM] Iteration 66, pseudo-likelihood = -39.44, time = 0.94s\n",
      "[BernoulliRBM] Iteration 67, pseudo-likelihood = -39.38, time = 0.87s\n",
      "[BernoulliRBM] Iteration 68, pseudo-likelihood = -39.22, time = 0.94s\n",
      "[BernoulliRBM] Iteration 69, pseudo-likelihood = -39.17, time = 0.76s\n",
      "[BernoulliRBM] Iteration 70, pseudo-likelihood = -38.90, time = 0.90s\n",
      "[BernoulliRBM] Iteration 71, pseudo-likelihood = -38.73, time = 0.69s\n",
      "[BernoulliRBM] Iteration 72, pseudo-likelihood = -38.57, time = 0.64s\n",
      "[BernoulliRBM] Iteration 73, pseudo-likelihood = -38.56, time = 0.74s\n",
      "[BernoulliRBM] Iteration 74, pseudo-likelihood = -38.50, time = 0.60s\n",
      "[BernoulliRBM] Iteration 75, pseudo-likelihood = -38.21, time = 0.59s\n",
      "[BernoulliRBM] Iteration 76, pseudo-likelihood = -38.22, time = 0.71s\n",
      "[BernoulliRBM] Iteration 77, pseudo-likelihood = -38.05, time = 0.55s\n",
      "[BernoulliRBM] Iteration 78, pseudo-likelihood = -37.89, time = 0.58s\n",
      "[BernoulliRBM] Iteration 79, pseudo-likelihood = -37.77, time = 0.52s\n",
      "[BernoulliRBM] Iteration 80, pseudo-likelihood = -37.73, time = 0.47s\n",
      "[BernoulliRBM] Iteration 81, pseudo-likelihood = -37.60, time = 0.57s\n",
      "[BernoulliRBM] Iteration 82, pseudo-likelihood = -37.42, time = 0.43s\n",
      "[BernoulliRBM] Iteration 83, pseudo-likelihood = -37.31, time = 0.49s\n",
      "[BernoulliRBM] Iteration 84, pseudo-likelihood = -37.14, time = 0.46s\n",
      "[BernoulliRBM] Iteration 85, pseudo-likelihood = -37.08, time = 0.49s\n",
      "[BernoulliRBM] Iteration 86, pseudo-likelihood = -37.06, time = 0.54s\n",
      "[BernoulliRBM] Iteration 87, pseudo-likelihood = -37.00, time = 0.46s\n",
      "[BernoulliRBM] Iteration 88, pseudo-likelihood = -36.89, time = 0.50s\n",
      "[BernoulliRBM] Iteration 89, pseudo-likelihood = -36.76, time = 0.52s\n",
      "[BernoulliRBM] Iteration 90, pseudo-likelihood = -36.67, time = 0.52s\n",
      "[BernoulliRBM] Iteration 91, pseudo-likelihood = -36.56, time = 0.51s\n",
      "[BernoulliRBM] Iteration 92, pseudo-likelihood = -36.42, time = 0.59s\n",
      "[BernoulliRBM] Iteration 93, pseudo-likelihood = -36.39, time = 0.83s\n",
      "[BernoulliRBM] Iteration 94, pseudo-likelihood = -36.41, time = 1.24s\n",
      "[BernoulliRBM] Iteration 95, pseudo-likelihood = -36.41, time = 1.17s\n",
      "[BernoulliRBM] Iteration 96, pseudo-likelihood = -36.20, time = 1.27s\n",
      "[BernoulliRBM] Iteration 97, pseudo-likelihood = -36.09, time = 0.88s\n",
      "[BernoulliRBM] Iteration 98, pseudo-likelihood = -36.03, time = 0.91s\n",
      "[BernoulliRBM] Iteration 99, pseudo-likelihood = -35.81, time = 1.20s\n",
      "[BernoulliRBM] Iteration 100, pseudo-likelihood = -35.96, time = 0.84s\n"
     ]
    },
    {
     "data": {
      "text/plain": [
       "Pipeline(memory=None,\n",
       "     steps=[('rbm1', BernoulliRBM(batch_size=64, learning_rate=0.01, n_components=150, n_iter=100,\n",
       "       random_state=42, verbose=True)), ('rbm2', BernoulliRBM(batch_size=64, learning_rate=0.01, n_components=100, n_iter=100,\n",
       "       random_state=42, verbose=True)), ('mlp', MLPClassifier(activation='relu'...=True, solver='adam', tol=0.0001, validation_fraction=0.1,\n",
       "       verbose=False, warm_start=False))])"
      ]
     },
     "execution_count": 5,
     "metadata": {},
     "output_type": "execute_result"
    }
   ],
   "source": [
    "classifier.fit(X_train,y_train)"
   ]
  },
  {
   "cell_type": "code",
   "execution_count": 6,
   "metadata": {},
   "outputs": [
    {
     "name": "stdout",
     "output_type": "stream",
     "text": [
      "MLP classifier with pretrained RBM features:\n",
      "             precision    recall  f1-score   support\n",
      "\n",
      "        0.0       0.99      0.98      0.99       196\n",
      "        1.0       0.97      0.98      0.98       227\n",
      "        2.0       0.95      0.95      0.95       206\n",
      "        3.0       0.94      0.91      0.92       202\n",
      "        4.0       0.92      0.96      0.94       196\n",
      "        5.0       0.94      0.92      0.93       182\n",
      "        6.0       0.96      0.98      0.97       191\n",
      "        7.0       0.96      0.95      0.95       205\n",
      "        8.0       0.91      0.93      0.92       194\n",
      "        9.0       0.95      0.93      0.94       201\n",
      "\n",
      "avg / total       0.95      0.95      0.95      2000\n",
      "\n",
      "\n",
      "Accuracy: 0.95\n",
      "\n",
      "\n"
     ]
    },
    {
     "data": {
      "text/plain": [
       "'\\nprint(\"Logistic regression using raw pixel features:\\n%s\\n\" % (\\n    metrics.classification_report(\\n        y_test,\\n        logistic2.predict(X_test))))\\nprint(\"Accuracy:\",metrics.accuracy_score(y_test,logistic2.predict(X_test)))\\n'"
      ]
     },
     "execution_count": 6,
     "metadata": {},
     "output_type": "execute_result"
    }
   ],
   "source": [
    "print(\"MLP classifier with pretrained RBM features:\\n%s\\n\" % (\n",
    "    metrics.classification_report(\n",
    "        y_test,\n",
    "        classifier.predict(X_test))))\n",
    "\n",
    "print(\"Accuracy:\",metrics.accuracy_score(y_test,classifier.predict(X_test)))\n",
    "print(\"\\n\")\n",
    "\"\"\"\n",
    "print(\"Logistic regression using raw pixel features:\\n%s\\n\" % (\n",
    "    metrics.classification_report(\n",
    "        y_test,\n",
    "        logistic2.predict(X_test))))\n",
    "print(\"Accuracy:\",metrics.accuracy_score(y_test,logistic2.predict(X_test)))\n",
    "\"\"\""
   ]
  },
  {
   "cell_type": "code",
   "execution_count": null,
   "metadata": {
    "collapsed": true
   },
   "outputs": [],
   "source": []
  },
  {
   "cell_type": "code",
   "execution_count": null,
   "metadata": {
    "collapsed": true
   },
   "outputs": [],
   "source": []
  },
  {
   "cell_type": "code",
   "execution_count": null,
   "metadata": {
    "collapsed": true
   },
   "outputs": [],
   "source": []
  }
 ],
 "metadata": {
  "kernelspec": {
   "display_name": "Python [conda env:Anaconda3]",
   "language": "python",
   "name": "conda-env-Anaconda3-py"
  },
  "language_info": {
   "codemirror_mode": {
    "name": "ipython",
    "version": 3
   },
   "file_extension": ".py",
   "mimetype": "text/x-python",
   "name": "python",
   "nbconvert_exporter": "python",
   "pygments_lexer": "ipython3",
   "version": "3.6.3"
  }
 },
 "nbformat": 4,
 "nbformat_minor": 2
}
