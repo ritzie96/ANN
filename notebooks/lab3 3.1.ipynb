{
 "cells": [
  {
   "cell_type": "code",
   "execution_count": 1,
   "metadata": {
    "collapsed": true
   },
   "outputs": [],
   "source": [
    "import numpy as np\n",
    "\n",
    "x1 = np.array([-1, -1, 1, -1, 1, -1, -1, 1],dtype=\"float\")\n",
    "x2 = np.array([-1, -1, -1, -1, -1, 1, -1, -1],dtype=\"float\")\n",
    "x3 = np.array([-1, 1, 1, -1, -1, 1, -1, 1],dtype=\"float\")\n",
    "\n",
    "patterns = np.array([x1,x2,x3])\n",
    "\n",
    "def init_weights(patterns):\n",
    "    dim = patterns.shape[1]\n",
    "    w=np.zeros((dim,dim))\n",
    "    \n",
    "    for i in range(dim):\n",
    "        for j in range(dim):\n",
    "            s = 0\n",
    "            for pattern in patterns:\n",
    "                s += pattern[i]*pattern[j]\n",
    "            w[i][j]=(1/(patterns.size)) * s\n",
    "    return w\n",
    "\n",
    "def recall(pattern):\n",
    "    dim = pattern.size\n",
    "    count = 0\n",
    "    \n",
    "    previousPattern = np.zeros(dim)\n",
    "    while True:\n",
    "        out = np.zeros(dim)\n",
    "        for i in range(dim):\n",
    "            s = 0\n",
    "            for j in range(dim):\n",
    "                s += w[i][j]*pattern[j]\n",
    "\n",
    "            if s >= 0:\n",
    "                sign=1\n",
    "            else:\n",
    "                sign=-1\n",
    "                    \n",
    "            out[i]=sign\n",
    "        \n",
    "        pattern = out\n",
    "        print(pattern)\n",
    "        \n",
    "        if check_True(pattern):\n",
    "            print (\"number of iterations\",count)\n",
    "            break\n",
    "            \n",
    "        elif np.array_equal(pattern,previousPattern):\n",
    "            print(\"Local minimum in iteration:\",count)\n",
    "            break\n",
    "        \n",
    "        previousPattern=pattern\n",
    "        count += 1\n",
    "        \n",
    "\n",
    "def check_True(predicted_pattern):\n",
    "    solved = False\n",
    "    for i in range(patterns.shape[0]):\n",
    "        if np.array_equal(patterns[i],predicted_pattern):\n",
    "            print(\"Pattern matches the stored pattern\",i+1)\n",
    "            solved = True\n",
    "    return solved"
   ]
  },
  {
   "cell_type": "code",
   "execution_count": 2,
   "metadata": {},
   "outputs": [
    {
     "name": "stdout",
     "output_type": "stream",
     "text": [
      "[-1. -1.  1. -1.  1. -1. -1.  1.]\n",
      "Pattern matches the stored pattern 1\n",
      "number of iterations 0\n",
      "[-1. -1. -1. -1. -1.  1. -1. -1.]\n",
      "Pattern matches the stored pattern 2\n",
      "number of iterations 0\n",
      "[-1.  1.  1. -1. -1.  1. -1.  1.]\n",
      "Pattern matches the stored pattern 3\n",
      "number of iterations 0\n"
     ]
    }
   ],
   "source": [
    "w = init_weights(patterns)\n",
    "\n",
    "recall(x1)\n",
    "recall(x2)\n",
    "recall(x3)"
   ]
  },
  {
   "cell_type": "code",
   "execution_count": 3,
   "metadata": {
    "collapsed": true
   },
   "outputs": [],
   "source": [
    "x1d=np.array([1, -1 ,1, -1, 1, -1, -1, 1],dtype=\"float\")\n",
    "x2d=np.array([1, 1, -1, -1, -1, 1, -1, -1],dtype=\"float\")\n",
    "x3d=np.array([1, 1 ,1, -1, 1, 1, -1, 1],dtype=\"float\")\n",
    "\n",
    "def count_minimums():\n",
    "    \n",
    "    minimas = np.array([])\n",
    "    iterations = 0\n",
    "    while(iterations<500):\n",
    "        \n",
    "        pattern = np.array([1,1,1,1,-1,-1,-1,-1])\n",
    "        np.random.shuffle(pattern)\n",
    "        dim = pattern.size\n",
    "        \n",
    "        while True:\n",
    "            out = np.zeros(dim)\n",
    "            for i in range(dim):\n",
    "                s = 0\n",
    "                for j in range(dim):\n",
    "                    s += w[i][j]*pattern[j]\n",
    "\n",
    "                if s >= 0:\n",
    "                    sign=1\n",
    "                else:\n",
    "                    sign=-1\n",
    "                    \n",
    "                out[i]=sign\n",
    "\n",
    "            pattern = out\n",
    "\n",
    "            if np.array_equal(pattern,out):\n",
    "                if(minimas.size>0):\n",
    "                    contains = False\n",
    "                    for i in range(minimas.shape[0]):\n",
    "                        if(np.array_equal(pattern,minimas[i])):\n",
    "                            contains = True\n",
    "                    if not contains:\n",
    "                        minimas = np.vstack((minimas,pattern))\n",
    "                        print(minimas.shape[0])\n",
    "                else:\n",
    "                    minimas = np.array((pattern))\n",
    "\n",
    "                \n",
    "\n",
    "                break\n",
    "        iterations+=1\n",
    "        "
   ]
  },
  {
   "cell_type": "code",
   "execution_count": 5,
   "metadata": {},
   "outputs": [
    {
     "name": "stdout",
     "output_type": "stream",
     "text": [
      "[-1. -1.  1. -1.  1. -1. -1.  1.]\n",
      "Pattern matches the stored pattern 1\n",
      "number of iterations 0\n",
      "[-1.  1. -1. -1. -1.  1. -1. -1.]\n",
      "[-1.  1. -1. -1. -1.  1. -1. -1.]\n",
      "Local minimum in iteration: 1\n",
      "[-1.  1.  1. -1.  1.  1. -1.  1.]\n",
      "[-1.  1.  1. -1. -1.  1. -1.  1.]\n",
      "Pattern matches the stored pattern 3\n",
      "number of iterations 1\n"
     ]
    }
   ],
   "source": [
    "recall(x1d)\n",
    "recall(x2d)\n",
    "recall(x3d)"
   ]
  },
  {
   "cell_type": "code",
   "execution_count": 6,
   "metadata": {},
   "outputs": [
    {
     "name": "stdout",
     "output_type": "stream",
     "text": [
      "2\n",
      "3\n",
      "4\n",
      "5\n",
      "6\n",
      "7\n",
      "8\n",
      "9\n",
      "10\n",
      "11\n",
      "12\n",
      "13\n",
      "14\n",
      "15\n",
      "16\n",
      "17\n"
     ]
    }
   ],
   "source": [
    "count_minimums()"
   ]
  },
  {
   "cell_type": "code",
   "execution_count": 7,
   "metadata": {},
   "outputs": [
    {
     "name": "stdout",
     "output_type": "stream",
     "text": [
      "[ 1.  1.  1.  1.  1. -1.  1.  1.]\n",
      "[ 1.  1.  1.  1.  1. -1.  1.  1.]\n",
      "Local minimum in iteration: 1\n",
      "[ 1. -1. -1.  1.  1. -1.  1. -1.]\n",
      "[ 1. -1. -1.  1.  1. -1.  1. -1.]\n",
      "Local minimum in iteration: 1\n",
      "[-1. -1. -1. -1. -1.  1. -1. -1.]\n",
      "Pattern matches the stored pattern 2\n",
      "number of iterations 0\n"
     ]
    }
   ],
   "source": [
    "x1dd=np.array([1, 1 ,-1, 1, 1, -1, -1, 1],dtype=\"float\")\n",
    "x2dd = np.array([1, -1, 1, -1, 1, 1, 1, -1],dtype=\"float\")\n",
    "x3dd = np.array([-1, -1, -1, -1, -1, -1, -1, -1],dtype=\"float\")\n",
    "\n",
    "recall(x1dd)\n",
    "recall(x2dd)\n",
    "recall(x3dd)"
   ]
  },
  {
   "cell_type": "code",
   "execution_count": null,
   "metadata": {
    "collapsed": true
   },
   "outputs": [],
   "source": []
  }
 ],
 "metadata": {
  "kernelspec": {
   "display_name": "Python [conda env:Anaconda3]",
   "language": "python",
   "name": "conda-env-Anaconda3-py"
  },
  "language_info": {
   "codemirror_mode": {
    "name": "ipython",
    "version": 3
   },
   "file_extension": ".py",
   "mimetype": "text/x-python",
   "name": "python",
   "nbconvert_exporter": "python",
   "pygments_lexer": "ipython3",
   "version": "3.6.3"
  }
 },
 "nbformat": 4,
 "nbformat_minor": 2
}
