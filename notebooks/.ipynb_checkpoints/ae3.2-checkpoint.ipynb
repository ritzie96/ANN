{
 "cells": [
  {
   "cell_type": "code",
   "execution_count": 2,
   "metadata": {},
   "outputs": [
    {
     "name": "stderr",
     "output_type": "stream",
     "text": [
      "Using TensorFlow backend.\n"
     ]
    }
   ],
   "source": [
    "import numpy as np\n",
    "import pandas as pd\n",
    "import matplotlib.pyplot as plt\n",
    "from sklearn.linear_model import LogisticRegression\n",
    "\n",
    "from sklearn import metrics\n",
    "\n",
    "from keras.layers import Input, Dense\n",
    "from keras.models import Model\n",
    "from sklearn.pipeline import Pipeline\n",
    "from keras.wrappers.scikit_learn import KerasClassifier\n",
    "from keras.wrappers.scikit_learn import KerasRegressor\n",
    "from keras.models import Sequential\n",
    "from keras.utils import to_categorical"
   ]
  },
  {
   "cell_type": "code",
   "execution_count": 3,
   "metadata": {
    "collapsed": true
   },
   "outputs": [],
   "source": [
    "X_train = pd.read_csv(\"bindigit_trn.csv\",header=None,dtype=np.float32).as_matrix()\n",
    "y_train = pd.read_csv(\"targetdigit_trn.csv\",header=None,names=[\"Label\"],dtype=np.float32).as_matrix()\n",
    "\n",
    "X_test = pd.read_csv(\"bindigit_tst.csv\",header=None,dtype=np.float32).as_matrix()\n",
    "y_test = pd.read_csv(\"targetdigit_tst.csv\",header=None,names=[\"Label\"],dtype=np.float32).as_matrix()"
   ]
  },
  {
   "cell_type": "code",
   "execution_count": 4,
   "metadata": {
    "collapsed": true
   },
   "outputs": [],
   "source": [
    "def plotWeights(weights):\n",
    "    n = weights.shape[0]  # how many digits we will display\n",
    "    plt.figure(figsize=(20, 20))\n",
    "    for i in range(n):\n",
    "        # display weights\n",
    "        ax = plt.subplot(10, 10, i + 1)\n",
    "        plt.imshow(weights[i].reshape(10, 10))\n",
    "        #plt.gray()\n",
    "        ax.get_xaxis().set_visible(False)\n",
    "        ax.get_yaxis().set_visible(False)\n",
    "    plt.show()"
   ]
  },
  {
   "cell_type": "code",
   "execution_count": 5,
   "metadata": {
    "collapsed": true
   },
   "outputs": [],
   "source": [
    "#autoencoder = sa.AutoEncoder(layers)"
   ]
  },
  {
   "cell_type": "code",
   "execution_count": 6,
   "metadata": {},
   "outputs": [
    {
     "data": {
      "text/plain": [
       "\"\\ninput_img = Input(shape=(784,))\\nencoded = Dense(150, activation='relu')(input_img) #1st hidden layer\\nencoded = Dense(50, activation='relu')(encoded) #2nd hidden layer\\n\\ndecoded = Dense(150, activation='relu')(encoded)\\ndecoded = Dense(784, activation='sigmoid')(encoded)\\n\\nautoencoder = Model(input_img,encoded)\\n\\nautoencoder.compile(optimizer='adadelta', loss='mean_squared_error')\\n\""
      ]
     },
     "execution_count": 6,
     "metadata": {},
     "output_type": "execute_result"
    }
   ],
   "source": [
    "'''\n",
    "input_img = Input(shape=(784,))\n",
    "encoded = Dense(150, activation='relu')(input_img) #1st hidden layer\n",
    "encoded = Dense(50, activation='relu')(encoded) #2nd hidden layer\n",
    "\n",
    "decoded = Dense(150, activation='relu')(encoded)\n",
    "decoded = Dense(784, activation='sigmoid')(encoded)\n",
    "\n",
    "autoencoder = Model(input_img,encoded)\n",
    "\n",
    "autoencoder.compile(optimizer='adadelta', loss='mean_squared_error')\n",
    "'''"
   ]
  },
  {
   "cell_type": "code",
   "execution_count": 7,
   "metadata": {},
   "outputs": [
    {
     "data": {
      "text/plain": [
       "'\\nautoencoder.fit(X_train,X_train,\\n               epochs=20,\\n               batch_size=64,\\n               shuffle=True,\\n               verbose=0,\\n                validation_data=(X_test, X_test))\\n                '"
      ]
     },
     "execution_count": 7,
     "metadata": {},
     "output_type": "execute_result"
    }
   ],
   "source": [
    "'''\n",
    "autoencoder.fit(X_train,X_train,\n",
    "               epochs=20,\n",
    "               batch_size=64,\n",
    "               shuffle=True,\n",
    "               verbose=0,\n",
    "                validation_data=(X_test, X_test))\n",
    "                '''"
   ]
  },
  {
   "cell_type": "code",
   "execution_count": 8,
   "metadata": {},
   "outputs": [
    {
     "data": {
      "text/plain": [
       "'\\nencoder = Model(input_img,encoded)\\npred = encoder.predict(X_train)\\n'"
      ]
     },
     "execution_count": 8,
     "metadata": {},
     "output_type": "execute_result"
    }
   ],
   "source": [
    "'''\n",
    "encoder = Model(input_img,encoded)\n",
    "pred = encoder.predict(X_train)\n",
    "'''"
   ]
  },
  {
   "cell_type": "code",
   "execution_count": 9,
   "metadata": {},
   "outputs": [
    {
     "data": {
      "text/plain": [
       "'\\nlogistic = LogisticRegression(C=100,verbose=True)\\nlogistic.fit(pred,y_train)\\n'"
      ]
     },
     "execution_count": 9,
     "metadata": {},
     "output_type": "execute_result"
    }
   ],
   "source": [
    "'''\n",
    "logistic = LogisticRegression(C=100,verbose=True)\n",
    "logistic.fit(pred,y_train)\n",
    "'''"
   ]
  },
  {
   "cell_type": "code",
   "execution_count": 10,
   "metadata": {},
   "outputs": [
    {
     "data": {
      "text/plain": [
       "'\\npred_encoded = encoder.predict(X_test)\\npredicted = logistic.predict(pred_encoded)\\n'"
      ]
     },
     "execution_count": 10,
     "metadata": {},
     "output_type": "execute_result"
    }
   ],
   "source": [
    "'''\n",
    "pred_encoded = encoder.predict(X_test)\n",
    "predicted = logistic.predict(pred_encoded)\n",
    "'''"
   ]
  },
  {
   "cell_type": "code",
   "execution_count": 11,
   "metadata": {},
   "outputs": [
    {
     "data": {
      "text/plain": [
       "'\\nprint(\"Logistic regression using Autoencoder features:\\n%s\\n\" %\\n      metrics.classification_report(y_test,predicted))\\n\\nprint(\"Accuracy:\",metrics.accuracy_score(y_test,predicted))\\nprint(\"\\n\")\\n'"
      ]
     },
     "execution_count": 11,
     "metadata": {},
     "output_type": "execute_result"
    }
   ],
   "source": [
    "'''\n",
    "print(\"Logistic regression using Autoencoder features:\\n%s\\n\" %\n",
    "      metrics.classification_report(y_test,predicted))\n",
    "\n",
    "print(\"Accuracy:\",metrics.accuracy_score(y_test,predicted))\n",
    "print(\"\\n\")\n",
    "'''"
   ]
  },
  {
   "cell_type": "code",
   "execution_count": 12,
   "metadata": {
    "collapsed": true
   },
   "outputs": [],
   "source": [
    "#alternate with perceptron classification\n",
    "\n",
    "input_img = Input(shape=(784,))\n",
    "encoded1 = Dense(150, activation='relu')(input_img) #1st hidden layer\n",
    "encoded2 = Dense(100, activation='relu')(encoded1) #2nd hidden layer\n",
    "encoded3 = Dense(50, activation='relu')(encoded2) #3d hidden layer\n",
    "decoded1 = Dense(100, activation='relu')(encoded3)\n",
    "decoded2 = Dense(150, activation='relu')(decoded1)\n",
    "decoded3 = Dense(784, activation='sigmoid')(decoded2)\n",
    "\n",
    "autoencoder = Model(input_img,decoded3)\n",
    "\n",
    "autoencoder.compile(optimizer='adadelta', loss='mean_squared_error')"
   ]
  },
  {
   "cell_type": "code",
   "execution_count": 13,
   "metadata": {},
   "outputs": [
    {
     "data": {
      "text/plain": [
       "<keras.callbacks.History at 0x1fcee426a58>"
      ]
     },
     "execution_count": 13,
     "metadata": {},
     "output_type": "execute_result"
    }
   ],
   "source": [
    "autoencoder.fit(X_train,X_train,\n",
    "               epochs=20,\n",
    "               batch_size=64,\n",
    "               shuffle=True,\n",
    "               verbose=0,\n",
    "                validation_data=(X_test, X_test))"
   ]
  },
  {
   "cell_type": "code",
   "execution_count": 14,
   "metadata": {
    "collapsed": true
   },
   "outputs": [],
   "source": [
    "hidden = Dense(50, activation='relu')(encoded2)\n",
    "out = Dense(10, activation='sigmoid')(hidden)\n",
    "classifier = Model(input_img,out)\n",
    "classifier.compile(optimizer='adadelta', loss='mean_squared_error')"
   ]
  },
  {
   "cell_type": "code",
   "execution_count": 15,
   "metadata": {},
   "outputs": [
    {
     "data": {
      "text/plain": [
       "<keras.callbacks.History at 0x1fce4e85b38>"
      ]
     },
     "execution_count": 15,
     "metadata": {},
     "output_type": "execute_result"
    }
   ],
   "source": [
    "y_train = to_categorical(y_train, num_classes=10)\n",
    "classifier.fit(X_train,y_train,\n",
    "               epochs=50,\n",
    "               batch_size=64,\n",
    "               shuffle=True,\n",
    "               verbose=0)"
   ]
  },
  {
   "cell_type": "code",
   "execution_count": 16,
   "metadata": {
    "collapsed": true
   },
   "outputs": [],
   "source": [
    "predictions = classifier.predict(X_test)\n",
    "pred = np.argmax(predictions,axis=1)"
   ]
  },
  {
   "cell_type": "code",
   "execution_count": 17,
   "metadata": {},
   "outputs": [
    {
     "name": "stdout",
     "output_type": "stream",
     "text": [
      "Classification using NN:\n",
      "             precision    recall  f1-score   support\n",
      "\n",
      "        0.0       0.96      0.98      0.97       196\n",
      "        1.0       0.96      0.96      0.96       227\n",
      "        2.0       0.93      0.94      0.93       206\n",
      "        3.0       0.95      0.91      0.93       202\n",
      "        4.0       0.94      0.96      0.95       196\n",
      "        5.0       0.94      0.90      0.92       182\n",
      "        6.0       0.93      0.96      0.95       191\n",
      "        7.0       0.95      0.94      0.95       205\n",
      "        8.0       0.94      0.94      0.94       194\n",
      "        9.0       0.93      0.94      0.94       201\n",
      "\n",
      "avg / total       0.94      0.94      0.94      2000\n",
      "\n",
      "\n",
      "Accuracy: 0.944\n",
      "\n",
      "\n"
     ]
    }
   ],
   "source": [
    "print(\"Classification using NN:\\n%s\\n\" %\n",
    "      metrics.classification_report(y_test,pred))\n",
    "\n",
    "print(\"Accuracy:\",metrics.accuracy_score(y_test,pred))\n",
    "print(\"\\n\")"
   ]
  },
  {
   "cell_type": "code",
   "execution_count": 18,
   "metadata": {
    "collapsed": true
   },
   "outputs": [],
   "source": [
    "weights = autoencoder.get_weights()"
   ]
  },
  {
   "cell_type": "code",
   "execution_count": 19,
   "metadata": {},
   "outputs": [
    {
     "data": {
      "text/plain": [
       "(100, 50)"
      ]
     },
     "execution_count": 19,
     "metadata": {},
     "output_type": "execute_result"
    }
   ],
   "source": [
    "weights[4].shape"
   ]
  },
  {
   "cell_type": "code",
   "execution_count": 20,
   "metadata": {},
   "outputs": [
    {
     "data": {
      "image/png": "[encoded data removed]",
      "text/plain": [
       "<matplotlib.figure.Figure at 0x1fce8707358>"
      ]
     },
     "metadata": {},
     "output_type": "display_data"
    }
   ],
   "source": [
    "plotWeights(weights[4].T)"
   ]
  },
  {
   "cell_type": "code",
   "execution_count": null,
   "metadata": {
    "collapsed": true
   },
   "outputs": [],
   "source": []
  }
 ],
 "metadata": {
  "kernelspec": {
   "display_name": "Python [conda env:Anaconda3]",
   "language": "python",
   "name": "conda-env-Anaconda3-py"
  },
  "language_info": {
   "codemirror_mode": {
    "name": "ipython",
    "version": 3
   },
   "file_extension": ".py",
   "mimetype": "text/x-python",
   "name": "python",
   "nbconvert_exporter": "python",
   "pygments_lexer": "ipython3",
   "version": "3.6.3"
  }
 },
 "nbformat": 4,
 "nbformat_minor": 2
}
