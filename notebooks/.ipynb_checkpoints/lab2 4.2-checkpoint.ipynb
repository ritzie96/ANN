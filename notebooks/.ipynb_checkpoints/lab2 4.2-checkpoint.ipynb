{
 "cells": [
  {
   "cell_type": "code",
   "execution_count": 14,
   "metadata": {},
   "outputs": [],
   "source": [
    "import numpy as np\n",
    "import matplotlib.pyplot as plt\n",
    "from matplotlib.path import Path\n",
    "indata = np.loadtxt('cities.dat',delimiter=\",\",skiprows=4,dtype=str)\n",
    "\n",
    "for i in range(indata.shape[0]):\n",
    "    #row = row.strip(\";\")\n",
    "    indata[i][1] = indata[i][1].strip(\";\")\n",
    "\n",
    "indata = indata.astype(float)"
   ]
  },
  {
   "cell_type": "code",
   "execution_count": 15,
   "metadata": {},
   "outputs": [
    {
     "data": {
      "image/png": "[encoded data removed]",
      "text/plain": [
       "<matplotlib.figure.Figure at 0x2e9c2680518>"
      ]
     },
     "metadata": {},
     "output_type": "display_data"
    }
   ],
   "source": [
    "plt.scatter(indata[:,0],indata[:,1])\n",
    "plt.show()"
   ]
  },
  {
   "cell_type": "code",
   "execution_count": 16,
   "metadata": {
    "collapsed": true
   },
   "outputs": [],
   "source": [
    "def init_weights():\n",
    "    np.random.seed(42)\n",
    "    weights = np.random.rand(10,2)\n",
    "    return weights\n",
    "\n",
    "weights = init_weights()"
   ]
  },
  {
   "cell_type": "code",
   "execution_count": 30,
   "metadata": {},
   "outputs": [
    {
     "data": {
      "image/png": "[encoded data removed]",
      "text/plain": [
       "<matplotlib.figure.Figure at 0x2e9c27e2d30>"
      ]
     },
     "metadata": {},
     "output_type": "display_data"
    }
   ],
   "source": [
    "#Calculates similarity between a pattern (animal) and weights, choses the weightnode with smallest distance\n",
    "def similarity(indata):\n",
    "    winner = 1000\n",
    "    winnerNode=0\n",
    "    for i in range(weights.shape[0]):\n",
    "        sub = np.subtract(indata,weights[i])\n",
    "        sim = np.dot(sub.T,sub)\n",
    "        if sim < winner:\n",
    "            winner = sim\n",
    "            winnerNode=i\n",
    "    return winnerNode\n",
    "            \n",
    "#Takes the index of the winner node, uses the window to call update weight function for\n",
    "#appropriate neighbours\n",
    "def getNeighbours(size, winner, ind): \n",
    "    indexes = []\n",
    "    \n",
    "    if(size>0):\n",
    "        for i in range(winner-size,winner+size):\n",
    "            tmp = i%10\n",
    "            indexes.append(tmp)\n",
    "    else:\n",
    "        indexes.append(winner)\n",
    "        \n",
    "    indexes = np.array(indexes)\n",
    "    updateWeights(indexes, ind)\n",
    "\n",
    "#Updates weight W[i]\n",
    "def updateWeights(weightIndex, ind, eta = 0.2):\n",
    "    for i in np.nditer(weightIndex):\n",
    "        weights[i] = weights[i] + eta*(np.subtract(ind,weights[i]))\n",
    "\n",
    "#Trains a SOM\n",
    "def trainSOM(epochs=20):\n",
    "    size = 2 #Size of neighbourhood\n",
    "    #For each pattern in indata\n",
    "    for epoch in range(epochs): #20 is standard\n",
    "        for i in range(indata.shape[0]):\n",
    "            winnerNode=similarity(indata[i]) #Find best node\n",
    "            getNeighbours(size, winnerNode, indata[i]) #Get list of neighbours with winnerNode in center\n",
    "        \n",
    "        #Update size of neighbourhood\n",
    "        if epochs<15:\n",
    "            size=1\n",
    "        elif epochs<10:\n",
    "            size = 0\n",
    "    \n",
    "#Creates a SOM based on training and plots tour\n",
    "def predictSOM():\n",
    "    pos=[]\n",
    "    #Loop through animals\n",
    "    for i in range(indata.shape[0]):\n",
    "            winnerNode=similarity(indata[i]) #Find best node\n",
    "            pos.append([winnerNode,indata[i][0],indata[i][1]])\n",
    "        \n",
    "    pos = np.array(pos,dtype=object)\n",
    "    pos = pos[pos[:,0].argsort()]\n",
    "    \n",
    "    #for i in range(pos.shape[0]):\n",
    "    plt.plot(pos[:,1],pos[:,2],linestyle='-', marker='o',color=\"g\")\n",
    "    path = Path(pos[:,1:])\n",
    "    #plt.plot(path) #spara denna\n",
    "    plt.show()\n",
    "    \n",
    "        \n",
    "trainSOM()       \n",
    "predictSOM()\n",
    "    \n",
    "#Visualize this later"
   ]
  },
  {
   "cell_type": "code",
   "execution_count": null,
   "metadata": {
    "collapsed": true
   },
   "outputs": [],
   "source": []
  }
 ],
 "metadata": {
  "kernelspec": {
   "display_name": "Python 3",
   "language": "python",
   "name": "python3"
  },
  "language_info": {
   "codemirror_mode": {
    "name": "ipython",
    "version": 3
   },
   "file_extension": ".py",
   "mimetype": "text/x-python",
   "name": "python",
   "nbconvert_exporter": "python",
   "pygments_lexer": "ipython3",
   "version": "3.6.3"
  }
 },
 "nbformat": 4,
 "nbformat_minor": 2
}
