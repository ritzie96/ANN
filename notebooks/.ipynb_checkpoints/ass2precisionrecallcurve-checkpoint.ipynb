{
 "cells": [
  {
   "cell_type": "code",
   "execution_count": 1,
   "metadata": {},
   "outputs": [
    {
     "name": "stdout",
     "output_type": "stream",
     "text": [
      "Precision: [ 0.4   0.3   0.3   0.3   0.28]\n",
      "Recall:    [ 0.04  0.06  0.09  0.12  0.14]\n"
     ]
    },
    {
     "data": {
      "image/png": "[encoded data removed]",
      "text/plain": [
       "<matplotlib.figure.Figure at 0x1df471f7cc0>"
      ]
     },
     "metadata": {},
     "output_type": "display_data"
    }
   ],
   "source": [
    "import numpy as np\n",
    "import matplotlib.pyplot as plt\n",
    "\n",
    "def readFile(filename):\n",
    "    result = np.array([])\n",
    "    fhand = open(filename)\n",
    "    for line in fhand:\n",
    "        line = line.rstrip()\n",
    "        v = line.split(\" \")\n",
    "        result = np.append(result, int(v[2]))\n",
    "    return result\n",
    "\n",
    "# precision = |relevant intersection returned|/|returned|\n",
    "def precision(array):\n",
    "    return float(np.sum(array != 0))/np.size(array)\n",
    "\n",
    "# recall = |relevant intersection returned|/|relevant|\n",
    "def recall(array):\n",
    "    return float(np.sum(array != 0))/100\n",
    "\n",
    "\n",
    "results = readFile(\"ass22.txt\")\n",
    "\n",
    "PRE = np.array([])\n",
    "REC = np.array([])\n",
    "\n",
    "for i in range(10,51,10):\n",
    "    PRE = np.append(PRE, precision(results[:i]))\n",
    "    REC = np.append(REC, recall(results[:i]))\n",
    "\n",
    "print (\"Precision:\", str(np.round(PRE*100)/100.))\n",
    "print (\"Recall:   \", str(REC))\n",
    "\n",
    "plt.plot(REC, PRE, 'b-')\n",
    "plt.axis([np.min(REC), np.max(REC), np.min(PRE), np.max(PRE)])\n",
    "plt.xlabel('Recall')\n",
    "plt.ylabel('Precision')\n",
    "plt.title(\"Precision and Recall curve\")\n",
    "plt.show()"
   ]
  },
  {
   "cell_type": "code",
   "execution_count": null,
   "metadata": {
    "collapsed": true
   },
   "outputs": [],
   "source": []
  }
 ],
 "metadata": {
  "kernelspec": {
   "display_name": "Python [conda env:Anaconda3]",
   "language": "python",
   "name": "conda-env-Anaconda3-py"
  },
  "language_info": {
   "codemirror_mode": {
    "name": "ipython",
    "version": 3
   },
   "file_extension": ".py",
   "mimetype": "text/x-python",
   "name": "python",
   "nbconvert_exporter": "python",
   "pygments_lexer": "ipython3",
   "version": "3.6.3"
  }
 },
 "nbformat": 4,
 "nbformat_minor": 2
}
