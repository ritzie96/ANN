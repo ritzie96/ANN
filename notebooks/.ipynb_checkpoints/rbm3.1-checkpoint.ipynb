{
 "cells": [
  {
   "cell_type": "code",
   "execution_count": 13,
   "metadata": {
    "collapsed": true
   },
   "outputs": [],
   "source": [
    "import numpy as np\n",
    "import matplotlib.pyplot as plt\n",
    "from sklearn.neural_network import BernoulliRBM\n",
    "from sklearn.pipeline import Pipeline\n",
    "from sklearn import metrics, linear_model\n",
    "from math import ceil"
   ]
  },
  {
   "cell_type": "code",
   "execution_count": 14,
   "metadata": {
    "collapsed": true
   },
   "outputs": [],
   "source": [
    "bin_train = np.genfromtxt('bindigit_trn.csv',delimiter=',',)\n",
    "target_train = np.genfromtxt('targetdigit_trn.csv',delimiter=',',)\n",
    "bin_test = np.genfromtxt('bindigit_tst.csv',delimiter=',',)\n",
    "target_test = np.genfromtxt('targetdigit_tst.csv',delimiter=',',)"
   ]
  },
  {
   "cell_type": "code",
   "execution_count": 15,
   "metadata": {
    "collapsed": true
   },
   "outputs": [],
   "source": [
    "class RBM(BernoulliRBM):\n",
    "    def reconstruct(self, X):\n",
    "        inner = np.dot(np.dot(self.components_.T, self.components_),X.T).T\n",
    "        recon = inner / inner.max(axis=0)\n",
    "        return recon"
   ]
  },
  {
   "cell_type": "code",
   "execution_count": 16,
   "metadata": {
    "collapsed": true
   },
   "outputs": [],
   "source": [
    "def calculate_error(data, recon_data):\n",
    "    return np.average(np.absolute(data-recon_data))"
   ]
  },
  {
   "cell_type": "code",
   "execution_count": 17,
   "metadata": {
    "collapsed": true
   },
   "outputs": [],
   "source": [
    "def report_RBM(hidden_dim, learning_rate, batch_size = 64, iterations = 10):\n",
    "    \n",
    "    rbm = RBM(n_components = hidden_dim, batch_size = batch_size, learning_rate = learning_rate,\n",
    "                  n_iter = iterations, verbose = False, random_state = 0)\n",
    "    errors = []\n",
    "    for i in range(iterations):\n",
    "        rbm.n_iter = i\n",
    "        rbm.fit(bin_train)\n",
    "        recon = rbm.reconstruct(bin_test)\n",
    "        errors.append(calculate_error(bin_test, recon))\n",
    "        print(\"finished iteration #{}\".format(i+1))\n",
    "    plt.plot(errors)\n",
    "    plt.title(\"Testing error Vs iterations\")\n",
    "    plt.show()\n",
    "    plt.figure(figsize = (20,10))\n",
    "    for j in range(1,10):\n",
    "        index = np.where(target_test==j)[0][0]\n",
    "        \n",
    "        # Plot original\n",
    "        plt.subplot(10, 2, j*2-1)\n",
    "        plt.imshow(bin_test[index,:].reshape((28, 28)), cmap=plt.cm.gray_r,\n",
    "           interpolation='nearest')\n",
    "        plt.gray()\n",
    "        plt.xticks(())\n",
    "        plt.yticks(())\n",
    "        \n",
    "        plt.subplot(10, 2, j*2)\n",
    "        #Plot reconstruction\n",
    "        plt.imshow(rbm.reconstruct(bin_test[index,:]).reshape((28, 28)), cmap=plt.cm.gray_r,\n",
    "           interpolation='nearest')\n",
    "        plt.gray()\n",
    "        plt.xticks(())\n",
    "        plt.yticks(())\n",
    "    plt.suptitle(\" \")\n",
    "    plt.subplots_adjust(left = 0.125, right = 0.175, wspace = 0, hspace = 0)\n",
    "    \n",
    "    plt.figure(figsize=(10.2, 10))\n",
    "    for i, comp in enumerate(rbm.components_):\n",
    "        plt.subplot(10, ceil(hidden_dim/10), i + 1)\n",
    "        plt.imshow(comp.reshape((28, 28)), cmap=plt.cm.gray_r,\n",
    "                   interpolation='nearest')\n",
    "        plt.gray()\n",
    "        plt.xticks(())\n",
    "        plt.yticks(())\n",
    "    plt.suptitle('{} components extracted by RBM'.format(hidden_dim), fontsize=16)\n",
    "    plt.subplots_adjust(0.08, 0.02, 0.92, 0.85, 0.08, 0.23)"
   ]
  },
  {
   "cell_type": "code",
   "execution_count": null,
   "metadata": {},
   "outputs": [
    {
     "name": "stdout",
     "output_type": "stream",
     "text": [
      "finished iteration #1\n",
      "finished iteration #2\n",
      "finished iteration #3\n",
      "finished iteration #4\n",
      "finished iteration #5\n",
      "finished iteration #6\n",
      "finished iteration #7\n",
      "finished iteration #8\n"
     ]
    }
   ],
   "source": [
    "recon = report_RBM(hidden_dim = 50, learning_rate = 0.01)"
   ]
  },
  {
   "cell_type": "code",
   "execution_count": null,
   "metadata": {
    "collapsed": true
   },
   "outputs": [],
   "source": [
    "recon = report_RBM(hidden_dim = 75, learning_rate = 0.01)"
   ]
  },
  {
   "cell_type": "code",
   "execution_count": null,
   "metadata": {
    "collapsed": true
   },
   "outputs": [],
   "source": [
    "recon = report_RBM(hidden_dim = 100, learning_rate = 0.01)"
   ]
  },
  {
   "cell_type": "code",
   "execution_count": null,
   "metadata": {
    "collapsed": true
   },
   "outputs": [],
   "source": [
    "recon = report_RBM(hidden_dim = 150, learning_rate = 0.01)"
   ]
  },
  {
   "cell_type": "code",
   "execution_count": null,
   "metadata": {
    "collapsed": true
   },
   "outputs": [],
   "source": []
  },
  {
   "cell_type": "code",
   "execution_count": null,
   "metadata": {
    "collapsed": true
   },
   "outputs": [],
   "source": []
  }
 ],
 "metadata": {
  "kernelspec": {
   "display_name": "Python [conda env:Anaconda3]",
   "language": "python",
   "name": "conda-env-Anaconda3-py"
  },
  "language_info": {
   "codemirror_mode": {
    "name": "ipython",
    "version": 3
   },
   "file_extension": ".py",
   "mimetype": "text/x-python",
   "name": "python",
   "nbconvert_exporter": "python",
   "pygments_lexer": "ipython3",
   "version": "3.6.3"
  }
 },
 "nbformat": 4,
 "nbformat_minor": 2
}
