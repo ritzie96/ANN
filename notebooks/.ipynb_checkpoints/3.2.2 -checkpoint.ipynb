{
 "cells": [
  {
   "cell_type": "code",
   "execution_count": 1,
   "metadata": {
    "collapsed": true
   },
   "outputs": [],
   "source": [
    "import numpy as np\n",
    "import matplotlib.pyplot as plt\n",
    "import math\n",
    "from sklearn.model_selection import train_test_split\n",
    "from sklearn.metrics import mean_squared_error, zero_one_loss"
   ]
  },
  {
   "cell_type": "code",
   "execution_count": 12,
   "metadata": {
    "collapsed": true
   },
   "outputs": [],
   "source": [
    "class neuralNet():\n",
    "    def __init__(self,dim,nr1,nr2):\n",
    "        self.nrOfInputs = dim \n",
    "        \n",
    "        #Storing errors for each epoch to eventually plot a learning curve\n",
    "        self.trainAbsErrors = []\n",
    "        self.trainMseErrors = []\n",
    "        self.testAbsErrors = []\n",
    "        self.testMseErrors = []\n",
    "        \n",
    "        self.finalW = [] #Store weights when training is done\n",
    "        self.shape_y = 0 #Nr of outputs, initially 0\n",
    "        \n",
    "        self.nrOfNodes_layer1 = nr1\n",
    "        self.nrOfNodes_layer2 = nr2\n",
    "    \n",
    "    def initWeights(self,nrOfNeuronsInLayer,nrOfInputsPerNeuron):\n",
    "        #Need to add one one weight for bias term\n",
    "        np.random.seed(42)\n",
    "        w = np.random.normal(0,1,size=(nrOfInputsPerNeuron+1,nrOfNeuronsInLayer))\n",
    "        return w\n",
    "    \n",
    "    #Introduces non-linearity\n",
    "    def transferFunc(self,x):\n",
    "        transformed = 2/(1+np.exp(-x))-1\n",
    "        return transformed\n",
    "\n",
    "    def transferDerivative(self, x):\n",
    "        derivative = np.multiply((1+x),(1-x))/2\n",
    "        return derivative\n",
    "    \n",
    "    #Outputs activations in layer 1 for task 3.2.2\n",
    "    def inspectActivation(self,patterns):\n",
    "        w1 = self.finalW[0]\n",
    "        w2 = self.finalW[1]\n",
    "        hout,_ = self.forwardPass(patterns,w1,w2) \n",
    "        return hout[:,:3] #Exclude bias\n",
    "        \n",
    "    def predict(self,patterns):\n",
    "        _,pred = self.forwardPass(patterns,self.finalW[0],self.finalW[1])\n",
    "        pred[pred>=0]=int(1)\n",
    "        pred[pred<0]=int(-1)\n",
    "        return pred\n",
    "    \n",
    "    #Takes NxM-dimensional input, passes it throught the two layers and produces an output\n",
    "    def forwardPass(self,patterns,w_1,w_2): \n",
    "        bias = np.ones(len(patterns),dtype=int)\n",
    "        patterns = np.column_stack([patterns,bias])\n",
    "\n",
    "        h_in = np.dot(patterns,w_1) #hin = w_1*[patterns + bias] (transposed)\n",
    "        h_out = np.column_stack([self.transferFunc(h_in),bias]) #hout = [transferFunc(hin)+bias]  \n",
    "        o_in = np.dot(h_out,w_2) #oin = w_2 * hout (transposed)\n",
    "        o_out = self.transferFunc(o_in) #out = transferFunc(oin)\n",
    "        \n",
    "        return h_out,o_out\n",
    "    \n",
    "    #Backpropagates the error, calculating how each weight contributes to it\n",
    "    def backPropagation(self,targets,h_out,o_out,w_2):\n",
    "        targets = targets.reshape(targets.shape[0],self.shape_y)        \n",
    "        delta_o = np.multiply((o_out-targets),self.transferDerivative(o_out))    \n",
    "        delta_h = np.dot(delta_o,w_2.T)*self.transferDerivative(h_out)\n",
    "        delta_h = delta_h[:,:self.nrOfNodes_layer1]\n",
    "        return delta_h,delta_o\n",
    "     \n",
    "    #Calculates the rate of zero-one-loss and MSE of the predictions\n",
    "    def calcError(self,pred,y,epochNr,traintest):\n",
    "        mse = mean_squared_error(y,pred)\n",
    "        \n",
    "        #Thresholding\n",
    "        pred[pred>=0]=1\n",
    "        pred[pred<0]=-1\n",
    "        zOloss = zero_one_loss(y,pred,normalize=True)\n",
    "        \n",
    "        #print(\"Nr of errors in\",traintest,\"data during epoch\",epochNr,\":\",zOloss)\n",
    "        return zOloss,mse\n",
    "        \n",
    "    #Update weights according to specified learning rate (eta) and alpha\n",
    "    def update_weights(self,X,y,w_1,w_2,dw_1,dw_2,delta_h,delta_o,h_out):\n",
    "        bias = np.ones(len(X),dtype=int)\n",
    "        #updateWeights\n",
    "        alpha=0.9\n",
    "        eta=0.05\n",
    "        dw_1 = np.multiply(dw_1,alpha)-np.dot(np.column_stack([X,bias]).T,delta_h)*(1-alpha)            \n",
    "        dw_2 = np.multiply(dw_2,alpha)-np.dot(h_out.T,delta_o)*(1-alpha)\n",
    "\n",
    "        w_1 = w_1 + dw_1*eta\n",
    "        w_2 = w_2 + dw_2*eta\n",
    "\n",
    "        return w_1,w_2,dw_1,dw_2\n",
    "    \n",
    "    #Trains a neural network using batch learning\n",
    "    def train_batch(self,X,y,X_test,y_test,epochs):\n",
    "        self.shape_y = int(y.size/len(y))\n",
    "        w_1 = self.initWeights(self.nrOfNodes_layer1,self.nrOfInputs) #Weights for first layer\n",
    "        w_2 = self.initWeights(self.nrOfNodes_layer2,self.nrOfNodes_layer1) #Weights for second layer\n",
    "        dw_1 = 0\n",
    "        dw_2 = 0\n",
    "        \n",
    "        bias = np.ones(len(X),dtype=int)\n",
    "        for epoch in range(epochs):\n",
    "            h_out,o_out = self.forwardPass(X,w_1,w_2) #Forward pass            \n",
    "            delta_h,delta_o = self.backPropagation(y,h_out,o_out,w_2) #backPropagation\n",
    "            w_1,w_2,dw_1,dw_2 = self.update_weights(X,y,w_1,w_2,dw_1,dw_2,delta_h,delta_o,h_out) #Update weights\n",
    "    \n",
    "            #Make a prediction on training data with the current weights\n",
    "            _,predictions_train = self.forwardPass(X,w_1,w_2)\n",
    "            train_abs, train_mse = self.calcError(predictions_train,y,epoch,\"train\")\n",
    "\n",
    "            #Make a prediction on testing data with the current weights\n",
    "            _,predictions_test = self.forwardPass(X_test,w_1,w_2) #calc error on testdata as well\n",
    "            test_abs, test_mse = self.calcError(predictions_test,y_test,epoch,\"test\")\n",
    "\n",
    "            #Store errors\n",
    "            self.trainAbsErrors.append(train_abs)\n",
    "            self.trainMseErrors.append(train_mse)\n",
    "            self.testAbsErrors.append(test_abs)\n",
    "            self.testMseErrors.append(test_mse)\n",
    "        \n",
    "        #Store final weights for later use\n",
    "        self.finalW = [w_1,w_2]\n",
    "\n",
    "    #Trains a neural network using sequential learning.\n",
    "    #Could be merged with train_batch() if one where to enable dynamic\n",
    "    #batch size\n",
    "    def train_seq(self,patterns,targets,X_test,y_test,epochs):\n",
    "        self.shape_y = int(targets.size/len(targets))\n",
    "        w_1 = self.initWeights(self.nrOfNodes_layer1,self.nrOfInputs) #Weights for first layer\n",
    "        w_2 = self.initWeights(self.nrOfNodes_layer2,self.nrOfNodes_layer1) #Weights for second layer\n",
    "        dw_1 = 0\n",
    "        dw_2 = 0\n",
    "        \n",
    "        bias = np.ones(len(patterns),dtype=int)\n",
    "        for epoch in range(epochs):\n",
    "            for i in range(targets.size):\n",
    "                X = patterns[i].reshape(1,2)                \n",
    "                y = np.array(targets[i])\n",
    "                \n",
    "                h_out,o_out = self.forwardPass(X,w_1,w_2) #Forward pass            \n",
    "                delta_h,delta_o = self.backPropagation(y,h_out,o_out,w_2) #backPropagation\n",
    "                w_1,w_2,dw_1,dw_2 = self.update_weights(X,y,w_1,w_2,dw_1,dw_2,delta_h,delta_o,h_out)\n",
    "\n",
    "            #Make a prediction on training data with the current weights\n",
    "            _,predictions_train = self.forwardPass(patterns,w_1,w_2)            \n",
    "            train_abs, train_mse = self.calcError(predictions_train,targets,epoch,\"train\")\n",
    "\n",
    "            #Make a prediction on testing data with the current weights\n",
    "            _,predictions_test = self.forwardPass(X_test,w_1,w_2) #calc error on testdata as well\n",
    "            test_abs, test_mse = self.calcError(predictions_test,y_test,epoch,\"test\")\n",
    "          \n",
    "            self.testAbsErrors.append(test_abs)\n",
    "            self.testMseErrors.append(test_mse)\n",
    "            self.trainAbsErrors.append(train_abs)\n",
    "            self.trainMseErrors.append(train_mse)\n",
    "        \n",
    "        self.finalW = [w_1,w_2]\n",
    "    \n",
    "    #Plots the 0/1-loss and MSE for each epoch\n",
    "    def evaluate(self,epochs):\n",
    "        f,axarr = plt.subplots(2,sharex=True)\n",
    "        axarr[0].plot(range(epochs),self.trainAbsErrors, '-',label=\"training\")\n",
    "        axarr[0].plot(range(epochs),self.testAbsErrors, '-',label=\"testing\")\n",
    "        axarr[0].set_title('Misclassification Ratio')\n",
    "        \n",
    "        axarr[1].plot(range(epochs),self.trainMseErrors, '-',label=\"training\")\n",
    "        axarr[1].plot(range(epochs),self.testMseErrors, '-',label=\"testing\")\n",
    "        axarr[1].set_title('MSE')\n",
    "        \n",
    "        plt.grid()\n",
    "        plt.legend()\n",
    "        plt.show()\n",
    "        \n",
    "    #Prints out the errors from thes final training epoch    \n",
    "    def printErrors(self):\n",
    "        print(\"Misclassifications\",self.testAbsErrors[len(self.testAbsErrors)-1])\n",
    "        print(\"MSE:\",self.testMseErrors[len(self.testMseErrors)-1])"
   ]
  },
  {
   "cell_type": "code",
   "execution_count": 9,
   "metadata": {
    "collapsed": true
   },
   "outputs": [],
   "source": [
    "#Generates random 1x8 vectors for testing\n",
    "def generateAutoData(nr):\n",
    "    np.random.seed(42)\n",
    "    X_auto = []\n",
    "    for i in range(nr):\n",
    "        index = np.random.randint(8)-1\n",
    "        one8 = -1*np.ones(8, dtype=int)\n",
    "        one8[index]=1\n",
    "        X_auto.append(one8)\n",
    "    return np.array(X_auto)\n",
    "\n",
    "#Generates the 8-unique representations of a one-hot-encoded 1x8 vector\n",
    "def genTrainData():\n",
    "    X_train=[]\n",
    "    for i in range(8):\n",
    "        one8 = -1*np.ones(8, dtype=int)\n",
    "        one8[i]=1\n",
    "        X_train.append(one8)\n",
    "    return np.array(X_train)\n",
    "        \n",
    "X_auto_train = genTrainData()\n",
    "X_auto_test = generateAutoData(50)"
   ]
  },
  {
   "cell_type": "code",
   "execution_count": 4,
   "metadata": {},
   "outputs": [
    {
     "name": "stdout",
     "output_type": "stream",
     "text": [
      "[ 1 -1 -1 -1 -1 -1 -1 -1]\n",
      "[-1 -1 -1 -1 -1 -1 -1  1]\n"
     ]
    }
   ],
   "source": [
    "#Some examples\n",
    "print(X_auto_train[0])\n",
    "print(X_auto_train[7])"
   ]
  },
  {
   "cell_type": "code",
   "execution_count": 10,
   "metadata": {
    "collapsed": true
   },
   "outputs": [],
   "source": [
    "#TRAIN AND TEST NETWORK WITH SAME DATA\n",
    "nrOfInputs = 8\n",
    "nodesInFirstLayer=3\n",
    "nodesInSecondLayer=8\n",
    "epochs = 750\n",
    "\n",
    "nn_3 = neuralNet(nrOfInputs,nodesInFirstLayer,nodesInSecondLayer) \n",
    "nn_3.train_batch(X_auto_train,X_auto_train,X_auto_test,X_auto_test,epochs)"
   ]
  },
  {
   "cell_type": "code",
   "execution_count": 13,
   "metadata": {},
   "outputs": [
    {
     "name": "stdout",
     "output_type": "stream",
     "text": [
      "Misclassifications 0.0\n",
      "MSE: 0.0600239162148\n"
     ]
    },
    {
     "data": {
      "image/png": "[encoded data removed]",
      "text/plain": [
       "<matplotlib.figure.Figure at 0x1d58a104860>"
      ]
     },
     "metadata": {},
     "output_type": "display_data"
    }
   ],
   "source": [
    "nn_3.printErrors()\n",
    "nn_3.evaluate(epochs)"
   ]
  },
  {
   "cell_type": "code",
   "execution_count": 15,
   "metadata": {
    "scrolled": true
   },
   "outputs": [
    {
     "name": "stdout",
     "output_type": "stream",
     "text": [
      "1st layer Weights:\n",
      " [[-0.36615866  0.95126467  1.50701715]\n",
      " [ 2.14606898  0.32625851  1.26280609]\n",
      " [ 1.50883771  1.67264209 -1.08487314]\n",
      " [ 1.95613378 -0.6266048  -0.78497075]\n",
      " [-0.99953566  0.50497275 -1.26592545]\n",
      " [-0.90329576 -2.22846349 -0.79427928]\n",
      " [-0.8202609  -1.52567908  1.8980173 ]\n",
      " [-0.33192514 -0.75302399 -3.00681105]\n",
      " [-0.46146158 -0.33251977 -1.0880608 ]] \n",
      "\n",
      "Activation: [-0.97709248 -0.91467318 -0.20102464]\n",
      "Activation: [ 0.18115318  0.98181908 -0.4576969 ]\n",
      "Activation: [ 0.55837632  0.0464186  -0.19207579]\n",
      "Activation: [-0.97709248 -0.91467318 -0.20102464]\n",
      "Activation: [ 0.6752908   0.76130645  0.9520544 ]\n",
      "Activation: [-0.97300996 -0.69243694  0.9863049 ]\n",
      "Activation: [ 0.55837632  0.0464186  -0.19207579]\n",
      "Activation: [ 0.55837632  0.0464186  -0.19207579]\n",
      "Activation: [-0.97709248 -0.91467318 -0.20102464]\n",
      "Activation: [-0.93437883  0.92524863  0.97030581]\n"
     ]
    }
   ],
   "source": [
    "from mpl_toolkits.mplot3d import Axes3D\n",
    "\n",
    "print(\"1st layer Weights:\\n\",nn_3.finalW[0],\"\\n\")\n",
    "activations = nn_3.inspectActivation(X_auto_test)\n",
    "for i in range(10):\n",
    "    print(\"Activation:\",activations[i])\n"
   ]
  },
  {
   "cell_type": "code",
   "execution_count": null,
   "metadata": {
    "collapsed": true
   },
   "outputs": [],
   "source": []
  }
 ],
 "metadata": {
  "kernelspec": {
   "display_name": "Python 3",
   "language": "python",
   "name": "python3"
  },
  "language_info": {
   "codemirror_mode": {
    "name": "ipython",
    "version": 3
   },
   "file_extension": ".py",
   "mimetype": "text/x-python",
   "name": "python",
   "nbconvert_exporter": "python",
   "pygments_lexer": "ipython3",
   "version": "3.6.3"
  }
 },
 "nbformat": 4,
 "nbformat_minor": 2
}
