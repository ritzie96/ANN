{
 "cells": [
  {
   "cell_type": "code",
   "execution_count": 1,
   "metadata": {},
   "outputs": [
    {
     "name": "stderr",
     "output_type": "stream",
     "text": [
      "Using TensorFlow backend.\n"
     ]
    }
   ],
   "source": [
    "import numpy as np\n",
    "import pandas as pd\n",
    "import matplotlib.pyplot as plt\n",
    "from sklearn.linear_model import LogisticRegression\n",
    "\n",
    "from sklearn import metrics\n",
    "\n",
    "from keras.utils import to_categorical\n",
    "from keras.layers import Input, Dense\n",
    "from keras.models import Model\n",
    "from keras.models import Sequential\n",
    "\n",
    "from sklearn.neural_network import MLPClassifier"
   ]
  },
  {
   "cell_type": "code",
   "execution_count": 2,
   "metadata": {
    "collapsed": true
   },
   "outputs": [],
   "source": [
    "X_train = pd.read_csv(\"bindigit_trn.csv\",header=None,dtype=np.float32).as_matrix()\n",
    "y_train = pd.read_csv(\"targetdigit_trn.csv\",header=None,names=[\"Label\"],dtype=np.float32).as_matrix()\n",
    "\n",
    "X_test = pd.read_csv(\"bindigit_tst.csv\",header=None,dtype=np.float32).as_matrix()\n",
    "y_test = pd.read_csv(\"targetdigit_tst.csv\",header=None,names=[\"Label\"],dtype=np.float32).as_matrix()"
   ]
  },
  {
   "cell_type": "code",
   "execution_count": 3,
   "metadata": {
    "collapsed": true
   },
   "outputs": [],
   "source": [
    "# Convert labels to categorical one-hot encoding\n",
    "y_train = to_categorical(y_train, num_classes=10)"
   ]
  },
  {
   "cell_type": "code",
   "execution_count": 4,
   "metadata": {
    "collapsed": true
   },
   "outputs": [],
   "source": [
    "model = Sequential()\n",
    "model.add(Dense(150,input_shape=(784,), activation='relu'))\n",
    "model.add(Dense(10, activation='sigmoid'))\n",
    "\n",
    "model.compile(loss='mean_squared_error', optimizer='adam', metrics=['accuracy'])"
   ]
  },
  {
   "cell_type": "code",
   "execution_count": 5,
   "metadata": {},
   "outputs": [
    {
     "name": "stdout",
     "output_type": "stream",
     "text": [
      "Epoch 1/20\n",
      "8000/8000 [==============================] - 3s 414us/step - loss: 0.0573 - acc: 0.6526\n",
      "Epoch 2/20\n",
      "8000/8000 [==============================] - 2s 214us/step - loss: 0.0214 - acc: 0.8928\n",
      "Epoch 3/20\n",
      "8000/8000 [==============================] - 2s 233us/step - loss: 0.0161 - acc: 0.9191\n",
      "Epoch 4/20\n",
      "8000/8000 [==============================] - 2s 210us/step - loss: 0.0131 - acc: 0.9341\n",
      "Epoch 5/20\n",
      "8000/8000 [==============================] - 1s 171us/step - loss: 0.0110 - acc: 0.9437\n",
      "Epoch 6/20\n",
      "8000/8000 [==============================] - 1s 156us/step - loss: 0.0095 - acc: 0.9537\n",
      "Epoch 7/20\n",
      "8000/8000 [==============================] - 1s 123us/step - loss: 0.0082 - acc: 0.9601\n",
      "Epoch 8/20\n",
      "8000/8000 [==============================] - 1s 134us/step - loss: 0.0071 - acc: 0.9656\n",
      "Epoch 9/20\n",
      "8000/8000 [==============================] - 1s 117us/step - loss: 0.0062 - acc: 0.9705\n",
      "Epoch 10/20\n",
      "8000/8000 [==============================] - 1s 106us/step - loss: 0.0054 - acc: 0.9744\n",
      "Epoch 11/20\n",
      "8000/8000 [==============================] - 1s 138us/step - loss: 0.0047 - acc: 0.9778\n",
      "Epoch 12/20\n",
      "8000/8000 [==============================] - 1s 120us/step - loss: 0.0041 - acc: 0.9791\n",
      "Epoch 13/20\n",
      "8000/8000 [==============================] - 1s 111us/step - loss: 0.0036 - acc: 0.9816\n",
      "Epoch 14/20\n",
      "8000/8000 [==============================] - 1s 102us/step - loss: 0.0031 - acc: 0.9839\n",
      "Epoch 15/20\n",
      "8000/8000 [==============================] - 1s 102us/step - loss: 0.0027 - acc: 0.9866\n",
      "Epoch 16/20\n",
      "8000/8000 [==============================] - 1s 100us/step - loss: 0.0024 - acc: 0.9886\n",
      "Epoch 17/20\n",
      "8000/8000 [==============================] - 1s 107us/step - loss: 0.0021 - acc: 0.9903\n",
      "Epoch 18/20\n",
      "8000/8000 [==============================] - 1s 100us/step - loss: 0.0018 - acc: 0.9910\n",
      "Epoch 19/20\n",
      "8000/8000 [==============================] - 1s 105us/step - loss: 0.0016 - acc: 0.9919\n",
      "Epoch 20/20\n",
      "8000/8000 [==============================] - 1s 119us/step - loss: 0.0014 - acc: 0.9924\n"
     ]
    },
    {
     "data": {
      "text/plain": [
       "<keras.callbacks.History at 0x21cb3ef8ac8>"
      ]
     },
     "execution_count": 5,
     "metadata": {},
     "output_type": "execute_result"
    }
   ],
   "source": [
    "model.fit(X_train,y_train,epochs=20,\n",
    "          batch_size=64,verbose=1, shuffle=False)"
   ]
  },
  {
   "cell_type": "code",
   "execution_count": 6,
   "metadata": {
    "collapsed": true
   },
   "outputs": [],
   "source": [
    "predictions = model.predict(X_test)"
   ]
  },
  {
   "cell_type": "code",
   "execution_count": 7,
   "metadata": {},
   "outputs": [
    {
     "data": {
      "text/plain": [
       "(2000, 10)"
      ]
     },
     "execution_count": 7,
     "metadata": {},
     "output_type": "execute_result"
    }
   ],
   "source": [
    "predictions.shape"
   ]
  },
  {
   "cell_type": "code",
   "execution_count": 8,
   "metadata": {
    "collapsed": true
   },
   "outputs": [],
   "source": [
    "pred = np.argmax(predictions,axis=1)"
   ]
  },
  {
   "cell_type": "code",
   "execution_count": 9,
   "metadata": {},
   "outputs": [
    {
     "data": {
      "text/plain": [
       "array([2, 5, 4, ..., 6, 2, 2], dtype=int64)"
      ]
     },
     "execution_count": 9,
     "metadata": {},
     "output_type": "execute_result"
    }
   ],
   "source": [
    "pred"
   ]
  },
  {
   "cell_type": "code",
   "execution_count": 10,
   "metadata": {},
   "outputs": [
    {
     "name": "stdout",
     "output_type": "stream",
     "text": [
      "Classification using NN:\n",
      "             precision    recall  f1-score   support\n",
      "\n",
      "        0.0       0.99      0.99      0.99       196\n",
      "        1.0       0.96      0.97      0.97       227\n",
      "        2.0       0.94      0.94      0.94       206\n",
      "        3.0       0.97      0.91      0.94       202\n",
      "        4.0       0.95      0.97      0.96       196\n",
      "        5.0       0.92      0.93      0.93       182\n",
      "        6.0       0.94      0.97      0.96       191\n",
      "        7.0       0.94      0.92      0.93       205\n",
      "        8.0       0.94      0.93      0.94       194\n",
      "        9.0       0.93      0.97      0.95       201\n",
      "\n",
      "avg / total       0.95      0.95      0.95      2000\n",
      "\n",
      "\n",
      "Accuracy: 0.9505\n",
      "\n",
      "\n"
     ]
    }
   ],
   "source": [
    "print(\"Classification using NN:\\n%s\\n\" %\n",
    "      metrics.classification_report(y_test,pred))\n",
    "\n",
    "print(\"Accuracy:\",metrics.accuracy_score(y_test,pred))\n",
    "print(\"\\n\")"
   ]
  },
  {
   "cell_type": "code",
   "execution_count": 11,
   "metadata": {
    "collapsed": true
   },
   "outputs": [],
   "source": [
    "#with scikitlearn\n",
    "\n",
    "nn = MLPClassifier(hidden_layer_sizes=(100,),\n",
    "                   activation='relu', solver='adam',alpha=0.01)"
   ]
  },
  {
   "cell_type": "code",
   "execution_count": 12,
   "metadata": {},
   "outputs": [
    {
     "data": {
      "text/plain": [
       "MLPClassifier(activation='relu', alpha=0.01, batch_size='auto', beta_1=0.9,\n",
       "       beta_2=0.999, early_stopping=False, epsilon=1e-08,\n",
       "       hidden_layer_sizes=(100,), learning_rate='constant',\n",
       "       learning_rate_init=0.001, max_iter=200, momentum=0.9,\n",
       "       nesterovs_momentum=True, power_t=0.5, random_state=None,\n",
       "       shuffle=True, solver='adam', tol=0.0001, validation_fraction=0.1,\n",
       "       verbose=False, warm_start=False)"
      ]
     },
     "execution_count": 12,
     "metadata": {},
     "output_type": "execute_result"
    }
   ],
   "source": [
    "nn.fit(X_train,y_train)"
   ]
  },
  {
   "cell_type": "code",
   "execution_count": 13,
   "metadata": {
    "collapsed": true
   },
   "outputs": [],
   "source": [
    "pred = nn.predict(X_test)"
   ]
  },
  {
   "cell_type": "code",
   "execution_count": 14,
   "metadata": {
    "collapsed": true
   },
   "outputs": [],
   "source": [
    "pred = np.argmax(predictions,axis=1)"
   ]
  },
  {
   "cell_type": "code",
   "execution_count": 15,
   "metadata": {},
   "outputs": [
    {
     "name": "stdout",
     "output_type": "stream",
     "text": [
      "Classification using NN:\n",
      "             precision    recall  f1-score   support\n",
      "\n",
      "        0.0       0.99      0.99      0.99       196\n",
      "        1.0       0.96      0.97      0.97       227\n",
      "        2.0       0.94      0.94      0.94       206\n",
      "        3.0       0.97      0.91      0.94       202\n",
      "        4.0       0.95      0.97      0.96       196\n",
      "        5.0       0.92      0.93      0.93       182\n",
      "        6.0       0.94      0.97      0.96       191\n",
      "        7.0       0.94      0.92      0.93       205\n",
      "        8.0       0.94      0.93      0.94       194\n",
      "        9.0       0.93      0.97      0.95       201\n",
      "\n",
      "avg / total       0.95      0.95      0.95      2000\n",
      "\n",
      "\n",
      "Accuracy: 0.9505\n",
      "\n",
      "\n"
     ]
    }
   ],
   "source": [
    "print(\"Classification using NN:\\n%s\\n\" %\n",
    "      metrics.classification_report(y_test,pred))\n",
    "\n",
    "print(\"Accuracy:\",metrics.accuracy_score(y_test,pred))\n",
    "print(\"\\n\")"
   ]
  },
  {
   "cell_type": "code",
   "execution_count": null,
   "metadata": {
    "collapsed": true
   },
   "outputs": [],
   "source": []
  }
 ],
 "metadata": {
  "kernelspec": {
   "display_name": "Python [conda env:Anaconda3]",
   "language": "python",
   "name": "conda-env-Anaconda3-py"
  },
  "language_info": {
   "codemirror_mode": {
    "name": "ipython",
    "version": 3
   },
   "file_extension": ".py",
   "mimetype": "text/x-python",
   "name": "python",
   "nbconvert_exporter": "python",
   "pygments_lexer": "ipython3",
   "version": "3.6.3"
  }
 },
 "nbformat": 4,
 "nbformat_minor": 2
}
