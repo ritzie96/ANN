{
 "cells": [
  {
   "cell_type": "code",
   "execution_count": 1,
   "metadata": {
    "collapsed": true
   },
   "outputs": [],
   "source": [
    "import numpy as np\n",
    "import matplotlib.pyplot as plt\n",
    "from scipy import signal\n",
    "import math,random\n",
    "np.random.seed(42)"
   ]
  },
  {
   "cell_type": "code",
   "execution_count": 2,
   "metadata": {
    "collapsed": true
   },
   "outputs": [],
   "source": [
    "#Read data\n",
    "trainData = np.loadtxt('ballist.dat')\n",
    "testData = np.loadtxt('balltest.dat')\n",
    "\n",
    "train_X = trainData[:,:2]\n",
    "train_y = trainData[:,2:]\n",
    "\n",
    "test_X = testData[:,:2]\n",
    "test_y = testData[:,2:]"
   ]
  },
  {
   "cell_type": "code",
   "execution_count": 3,
   "metadata": {},
   "outputs": [
    {
     "data": {
      "text/plain": [
       "array([ 0.896,  0.54 ])"
      ]
     },
     "execution_count": 3,
     "metadata": {},
     "output_type": "execute_result"
    }
   ],
   "source": [
    "train_X[0]"
   ]
  },
  {
   "cell_type": "code",
   "execution_count": 4,
   "metadata": {},
   "outputs": [
    {
     "data": {
      "image/png": "[encoded data removed]",
      "text/plain": [
       "<matplotlib.figure.Figure at 0x19f67c29fd0>"
      ]
     },
     "metadata": {},
     "output_type": "display_data"
    }
   ],
   "source": [
    "plt.scatter(train_X[:,0],train_X[:,1],marker=\".\",color=\"g\")\n",
    "plt.show()"
   ]
  },
  {
   "cell_type": "code",
   "execution_count": 5,
   "metadata": {},
   "outputs": [
    {
     "data": {
      "image/png": "[encoded data removed]",
      "text/plain": [
       "<matplotlib.figure.Figure at 0x19f67ee97b8>"
      ]
     },
     "metadata": {},
     "output_type": "display_data"
    }
   ],
   "source": [
    "plt.scatter(train_y[:,0],train_y[:,1],marker=\".\",color=\"g\")\n",
    "plt.show()"
   ]
  },
  {
   "cell_type": "code",
   "execution_count": 6,
   "metadata": {
    "collapsed": true
   },
   "outputs": [],
   "source": [
    "class DeltaRule:\n",
    "    def __init__(self, train, trainTarget, prototypes, step=0.01, maxEpoch=200):\n",
    "        self.train = train\n",
    "        self.trainTarget = trainTarget\n",
    "        self.prototypes = prototypes\n",
    "        self.nodes = prototypes.size\n",
    "        self.step = step\n",
    "        self.beta = np.ones(self.prototypes.shape) #Variance - now set to equal for all\n",
    "        #self.beta = setBeta()\n",
    "        self.weights = np.ones(self.prototypes.shape)\n",
    "        self.epoch = 0\n",
    "        self.maxEpoch = maxEpoch\n",
    "        self.errThreshold = 0.1\n",
    "        self.mainLoop()\n",
    "    \n",
    "    \n",
    "    def setBeta(self):\n",
    "        total = 0\n",
    "        for i in range(self.prototypes.shape[0]-1):\n",
    "            total += abs(self.prototypes[i] - self.prototypes[i+1])\n",
    "        averageDistance = total/(self.prototypes.size-1)\n",
    "        return np.repeat(averageDistance, self.prototypes.size)\n",
    "        \n",
    "    def mainLoop(self):\n",
    "        while self.epoch < self.maxEpoch:\n",
    "            for j in range(self.train.shape[0]):\n",
    "                #i next int\n",
    "                i = random.randint(0,self.train.shape[0]-1) \n",
    "                self.weights += self.deltaWeights(i)\n",
    "                #print(self.weights)\n",
    "                if self.residualError(self.train, self.trainTarget) < self.errThreshold:\n",
    "                    return\n",
    "            self.epoch += 1\n",
    "            #if self.epoch%20 == 0:\n",
    "            plt.plot(self.epoch, self.residualError(self.train, self.trainTarget),marker=\".\", color=\"r\")\n",
    "        plt.show()\n",
    "            \n",
    "            \n",
    "    def deltaWeights(self, index):\n",
    "        #a - elevated to two?\n",
    "        activations = self.activation(self.train[index])\n",
    "        #a = self.trainTarget[index] - np.dot(activations, self.weights)\n",
    "        a = self.trainTarget[index] - np.multiply(activations, self.weights)\n",
    "        #print(\"A-shape: \",a)\n",
    "        b = self.step * a\n",
    "        delta_w = b * self.activation(self.train[index])\n",
    "        \n",
    "        return delta_w\n",
    "    \n",
    "    def activation(self, pattern): \n",
    "        \"\"\"Gauss simplified e^(-beta(x-mu)^2). Calculates for each row\"\"\"\n",
    "        activations = np.e**(np.multiply(-1*self.beta, (pattern-self.prototypes)**2)) \n",
    "        \n",
    "        #3 vikter ska uppdateras        \n",
    "        #1a\n",
    "        bestActivationIndex1 = np.argmax(activations[:,0])\n",
    "        activations[bestActivationIndex1]=0\n",
    "        \n",
    "        #2a\n",
    "        bestActivationIndex2 = np.argmax(activations[:,1])\n",
    "        activations[bestActivationIndex2]=0\n",
    "        \n",
    "        activations = np.zeros_like(activations)\n",
    "        activations[bestActivationIndex1]=[1,1]\n",
    "        activations[bestActivationIndex2]=[1,1]\n",
    "        \n",
    "        return activations\n",
    "    \n",
    "    def activation_old(self, pattern): \n",
    "        \"\"\"Gauss simplified e^(-beta(x-mu)^2). Calculates for each row\"\"\"\n",
    "        activations = np.e**(np.multiply(-1*self.beta, (pattern-self.prototypes)**2))\n",
    "        \n",
    "        #summed_activations np.sum(activations[:,0],activations[:,1])\n",
    "        #Set biggest activation to 1\n",
    "        #Endast EN weight ska uppdateras\n",
    "        bestActivationIndex = np.argmax(activations)\n",
    "        activations = np.zeros_like(activations)\n",
    "        activations[bestActivationIndex]=1\n",
    "        \n",
    "        return activations\n",
    "        \n",
    "    #Predict\n",
    "    def run(self, patterns):\n",
    "        res = np.zeros(patterns.shape)\n",
    "        c = 0\n",
    "        for x in patterns:\n",
    "            activations = self.activation(x)\n",
    "            res[c] = sum(np.multiply(self.weights, activations))\n",
    "            #print(res[c])\n",
    "            #print(np.dot(self.weights.T, activations))\n",
    "            #res[c] = np.dot(self.weights.T, activations)\n",
    "            c += 1\n",
    "        return res\n",
    "\n",
    "    def residualError(self, patterns, targets):\n",
    "        \"\"\"Calculates residual error\"\"\"\n",
    "        res = self.run(patterns)\n",
    "        diff = np.absolute(res-targets)\n",
    "        return np.average(diff)"
   ]
  },
  {
   "cell_type": "code",
   "execution_count": 14,
   "metadata": {},
   "outputs": [
    {
     "data": {
      "image/png": "[encoded data removed]",
      "text/plain": [
       "<matplotlib.figure.Figure at 0x19f660bde48>"
      ]
     },
     "metadata": {},
     "output_type": "display_data"
    }
   ],
   "source": [
    "index = np.linspace(0, train_X.shape[0]-1, num = 20, dtype= int)\n",
    "b = DeltaRule(train_X, train_y,train_X[index], 0.01, 100)"
   ]
  },
  {
   "cell_type": "code",
   "execution_count": 15,
   "metadata": {},
   "outputs": [
    {
     "data": {
      "image/png": "[encoded data removed]",
      "text/plain": [
       "<matplotlib.figure.Figure at 0x19f696ea0b8>"
      ]
     },
     "metadata": {},
     "output_type": "display_data"
    },
    {
     "name": "stdout",
     "output_type": "stream",
     "text": [
      "Residual error:  0.190400388541\n"
     ]
    }
   ],
   "source": [
    "plt.scatter(train_y[:,0],train_y[:,1],marker=\".\",color=\"r\")\n",
    "plt.scatter(b.run(train_X)[:,0],b.run(train_X)[:,1],marker=\".\",color=\"g\")\n",
    "#plt.scatter(train_X, train_y,color=\"b\")\n",
    "#plt.plot(train_X[index], train_y[index], \"bo\")\n",
    "plt.title(\"Training data\")\n",
    "plt.show()\n",
    "print(\"Residual error: \", b.residualError(train_X, train_y))"
   ]
  },
  {
   "cell_type": "code",
   "execution_count": 16,
   "metadata": {},
   "outputs": [
    {
     "data": {
      "image/png": "[encoded data removed]",
      "text/plain": [
       "<matplotlib.figure.Figure at 0x19f6955d8d0>"
      ]
     },
     "metadata": {},
     "output_type": "display_data"
    },
    {
     "name": "stdout",
     "output_type": "stream",
     "text": [
      "Residual error:  0.211254305289\n"
     ]
    }
   ],
   "source": [
    "plt.scatter(test_y[:,0],test_y[:,1],marker=\".\",color=\"r\")\n",
    "plt.scatter(b.run(test_X)[:,0],b.run(test_X)[:,1],marker=\".\",color=\"g\")\n",
    "#plt.scatter(train_X, train_y,color=\"b\")\n",
    "#plt.plot(train_X[index], train_y[index], \"bo\")\n",
    "plt.title(\"Testing data\")\n",
    "plt.show()\n",
    "print(\"Residual error: \", b.residualError(test_X, test_y))"
   ]
  },
  {
   "cell_type": "code",
   "execution_count": 17,
   "metadata": {},
   "outputs": [
    {
     "name": "stdout",
     "output_type": "stream",
     "text": [
      "[[ 0.10545375  0.18221085]\n",
      " [ 0.19127398  0.09755802]\n",
      " [ 0.26089486  0.25063969]\n",
      " [ 0.1965652   0.26889718]\n",
      " [ 0.33261347  0.43435381]\n",
      " [ 0.07541029  0.01648907]\n",
      " [ 0.12854106  0.13307883]\n",
      " [ 0.18168383  0.08139859]\n",
      " [ 0.22814537  0.15128267]\n",
      " [ 0.09570489  0.11899946]\n",
      " [ 0.13177521  0.08254259]\n",
      " [ 0.09083431  0.04484785]\n",
      " [ 0.22159206  0.28258344]\n",
      " [ 0.08849384  0.05690639]\n",
      " [ 0.39729161  0.33525943]\n",
      " [ 0.34586009  0.31774274]\n",
      " [ 0.14976496  0.02928897]\n",
      " [ 0.01945643  0.1608344 ]\n",
      " [ 0.21182453  0.21378351]\n",
      " [ 0.36188776  0.44032034]]\n"
     ]
    }
   ],
   "source": [
    "print(b.weights)"
   ]
  },
  {
   "cell_type": "code",
   "execution_count": 18,
   "metadata": {},
   "outputs": [
    {
     "data": {
      "image/png": "[encoded data removed]",
      "text/plain": [
       "<matplotlib.figure.Figure at 0x19f67ecf518>"
      ]
     },
     "metadata": {},
     "output_type": "display_data"
    }
   ],
   "source": [
    "plt.scatter(b.weights[:,0],b.weights[:,1],marker=\".\",color=\"g\")\n",
    "plt.show()"
   ]
  },
  {
   "cell_type": "code",
   "execution_count": null,
   "metadata": {
    "collapsed": true
   },
   "outputs": [],
   "source": []
  }
 ],
 "metadata": {
  "kernelspec": {
   "display_name": "Python [default]",
   "language": "python",
   "name": "python3"
  },
  "language_info": {
   "codemirror_mode": {
    "name": "ipython",
    "version": 3
   },
   "file_extension": ".py",
   "mimetype": "text/x-python",
   "name": "python",
   "nbconvert_exporter": "python",
   "pygments_lexer": "ipython3",
   "version": "3.6.3"
  }
 },
 "nbformat": 4,
 "nbformat_minor": 2
}
